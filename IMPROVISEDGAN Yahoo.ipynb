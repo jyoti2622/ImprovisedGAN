{
 "cells": [
  {
   "cell_type": "code",
   "execution_count": 1,
   "id": "09700251-c3ca-48c0-8db3-8d3f41db2e57",
   "metadata": {},
   "outputs": [],
   "source": [
    "import torch\n",
    "import torch.nn as nn \n",
    "import pandas as pd\n",
    "import numpy as np\n",
    "import time\n",
    "import torch.backends.cudnn as cudnn\n",
    "from torch.autograd import Variable\n",
    "import datetime"
   ]
  },
  {
   "cell_type": "code",
   "execution_count": 2,
   "id": "39c6bcd6-1358-44d7-ad70-b92579b9cd5a",
   "metadata": {},
   "outputs": [],
   "source": [
    "from src.model.modelGranoGan import Encoder,Decoder,Critic\n",
    "from src.utils.losses import Wasserstein\n",
    "from src.utils.util import *\n",
    "from src.dataset.yahoo import YahooDataset\n",
    "from src.algorithms.GranoGAN import GranoGAN"
   ]
  },
  {
   "cell_type": "code",
   "execution_count": 3,
   "id": "6288f4ef-0baa-4470-94a7-389a9455ecd4",
   "metadata": {},
   "outputs": [
    {
     "name": "stdout",
     "output_type": "stream",
     "text": [
      "22:45:50\n"
     ]
    }
   ],
   "source": [
    "#This is the beginning of programm\n",
    "t = time.localtime()\n",
    "current_time = time.strftime(\"%H:%M:%S\", t)\n",
    "print(current_time)\n",
    "    \n"
   ]
  },
  {
   "cell_type": "markdown",
   "id": "a54e1628-1bc0-40f8-a557-d4a9972ba6ec",
   "metadata": {},
   "source": [
    "<h4>Initializing Dataset</h4>"
   ]
  },
  {
   "cell_type": "code",
   "execution_count": 4,
   "id": "4e0ff27c-56cf-445e-b10c-6d888c1d4316",
   "metadata": {},
   "outputs": [],
   "source": [
    "class ArgsTrn:\n",
    "    workers=4\n",
    "    batch_size=32\n",
    "    epochs=5\n",
    "    lr=0.0002\n",
    "    cuda = True\n",
    "    manualSeed=2\n",
    "    mean=0\n",
    "    std=0.1\n",
    "    \n",
    "opt_trn=ArgsTrn()\n",
    "torch.manual_seed(opt_trn.manualSeed)\n",
    "\n",
    "\n",
    "class DataSettings:\n",
    "    def __init__(self):\n",
    "        \n",
    "        self.data_folder_path='/home/jupyter/GRANOGAN-IISC/data/yahoo/A1Benchmark/'\n",
    "        self.train = True\n",
    "        self.window_length = 60\n",
    "data_settings = DataSettings()"
   ]
  },
  {
   "cell_type": "code",
   "execution_count": 5,
   "id": "d9b0411b-a6c6-4065-9209-44fd14d56459",
   "metadata": {},
   "outputs": [
    {
     "ename": "ValueError",
     "evalue": "No objects to concatenate",
     "output_type": "error",
     "traceback": [
      "\u001b[0;31m---------------------------------------------------------------------------\u001b[0m",
      "\u001b[0;31mValueError\u001b[0m                                Traceback (most recent call last)",
      "Cell \u001b[0;32mIn[5], line 2\u001b[0m\n\u001b[1;32m      1\u001b[0m \u001b[38;5;66;03m# define dataset object and data loader object for NAB dataset\u001b[39;00m\n\u001b[0;32m----> 2\u001b[0m dataset \u001b[38;5;241m=\u001b[39m \u001b[43mYahooDataset\u001b[49m\u001b[43m(\u001b[49m\u001b[43mdata_settings\u001b[49m\u001b[38;5;241;43m=\u001b[39;49m\u001b[43mdata_settings\u001b[49m\u001b[43m)\u001b[49m\n\u001b[1;32m      3\u001b[0m dataloader \u001b[38;5;241m=\u001b[39m torch\u001b[38;5;241m.\u001b[39mutils\u001b[38;5;241m.\u001b[39mdata\u001b[38;5;241m.\u001b[39mDataLoader(dataset, batch_size\u001b[38;5;241m=\u001b[39mopt_trn\u001b[38;5;241m.\u001b[39mbatch_size,\n\u001b[1;32m      4\u001b[0m                                          shuffle\u001b[38;5;241m=\u001b[39m\u001b[38;5;28;01mTrue\u001b[39;00m, num_workers\u001b[38;5;241m=\u001b[39m\u001b[38;5;28mint\u001b[39m(opt_trn\u001b[38;5;241m.\u001b[39mworkers))\n\u001b[1;32m      5\u001b[0m seq_len \u001b[38;5;241m=\u001b[39m dataset\u001b[38;5;241m.\u001b[39mwindow_length \u001b[38;5;66;03m# sequence length is equal to the window length\u001b[39;00m\n",
      "File \u001b[0;32m~/Downloads/GRANOGAN-main/src/dataset/yahoo.py:11\u001b[0m, in \u001b[0;36mYahooDataset.__init__\u001b[0;34m(self, data_settings)\u001b[0m\n\u001b[1;32m      9\u001b[0m \u001b[38;5;28;01mdef\u001b[39;00m \u001b[38;5;21m__init__\u001b[39m(\u001b[38;5;28mself\u001b[39m, data_settings):\n\u001b[1;32m     10\u001b[0m     \u001b[38;5;28mself\u001b[39m\u001b[38;5;241m.\u001b[39mtrain \u001b[38;5;241m=\u001b[39m data_settings\u001b[38;5;241m.\u001b[39mtrain\n\u001b[0;32m---> 11\u001b[0m     df_x, df_y \u001b[38;5;241m=\u001b[39m \u001b[38;5;28;43mself\u001b[39;49m\u001b[38;5;241;43m.\u001b[39;49m\u001b[43mread_data\u001b[49m\u001b[43m(\u001b[49m\u001b[43mdata_folder_path\u001b[49m\u001b[43m \u001b[49m\u001b[38;5;241;43m=\u001b[39;49m\u001b[43m \u001b[49m\u001b[43mdata_settings\u001b[49m\u001b[38;5;241;43m.\u001b[39;49m\u001b[43mdata_folder_path\u001b[49m\u001b[43m)\u001b[49m\n\u001b[1;32m     12\u001b[0m     \u001b[38;5;66;03m#select and standardize data\u001b[39;00m\n\u001b[1;32m     13\u001b[0m     df_x \u001b[38;5;241m=\u001b[39m df_x[[\u001b[38;5;124m'\u001b[39m\u001b[38;5;124mvalue\u001b[39m\u001b[38;5;124m'\u001b[39m]]\n",
      "File \u001b[0;32m~/Downloads/GRANOGAN-main/src/dataset/yahoo.py:72\u001b[0m, in \u001b[0;36mYahooDataset.read_data\u001b[0;34m(self, data_folder_path)\u001b[0m\n\u001b[1;32m     70\u001b[0m     df \u001b[38;5;241m=\u001b[39m pd\u001b[38;5;241m.\u001b[39mread_csv(filename, index_col\u001b[38;5;241m=\u001b[39m\u001b[38;5;28;01mNone\u001b[39;00m, header\u001b[38;5;241m=\u001b[39m\u001b[38;5;241m0\u001b[39m)\n\u001b[1;32m     71\u001b[0m     dfs\u001b[38;5;241m.\u001b[39mappend(df)\n\u001b[0;32m---> 72\u001b[0m df_x \u001b[38;5;241m=\u001b[39m \u001b[43mpd\u001b[49m\u001b[38;5;241;43m.\u001b[39;49m\u001b[43mconcat\u001b[49m\u001b[43m(\u001b[49m\u001b[43mdfs\u001b[49m\u001b[43m,\u001b[49m\u001b[43m \u001b[49m\u001b[43maxis\u001b[49m\u001b[38;5;241;43m=\u001b[39;49m\u001b[38;5;241;43m0\u001b[39;49m\u001b[43m,\u001b[49m\u001b[43m \u001b[49m\u001b[43mignore_index\u001b[49m\u001b[38;5;241;43m=\u001b[39;49m\u001b[38;5;28;43;01mTrue\u001b[39;49;00m\u001b[43m)\u001b[49m\n\u001b[1;32m     74\u001b[0m \u001b[38;5;66;03m#y=np.zeros(len(df_x))\u001b[39;00m\n\u001b[1;32m     75\u001b[0m y\u001b[38;5;241m=\u001b[39mdf_x[\u001b[38;5;124m'\u001b[39m\u001b[38;5;124mis_anomaly\u001b[39m\u001b[38;5;124m'\u001b[39m]\n",
      "File \u001b[0;32m~/Downloads/GRANOGAN-main/.venv/lib/python3.12/site-packages/pandas/core/reshape/concat.py:382\u001b[0m, in \u001b[0;36mconcat\u001b[0;34m(objs, axis, join, ignore_index, keys, levels, names, verify_integrity, sort, copy)\u001b[0m\n\u001b[1;32m    379\u001b[0m \u001b[38;5;28;01melif\u001b[39;00m copy \u001b[38;5;129;01mand\u001b[39;00m using_copy_on_write():\n\u001b[1;32m    380\u001b[0m     copy \u001b[38;5;241m=\u001b[39m \u001b[38;5;28;01mFalse\u001b[39;00m\n\u001b[0;32m--> 382\u001b[0m op \u001b[38;5;241m=\u001b[39m \u001b[43m_Concatenator\u001b[49m\u001b[43m(\u001b[49m\n\u001b[1;32m    383\u001b[0m \u001b[43m    \u001b[49m\u001b[43mobjs\u001b[49m\u001b[43m,\u001b[49m\n\u001b[1;32m    384\u001b[0m \u001b[43m    \u001b[49m\u001b[43maxis\u001b[49m\u001b[38;5;241;43m=\u001b[39;49m\u001b[43maxis\u001b[49m\u001b[43m,\u001b[49m\n\u001b[1;32m    385\u001b[0m \u001b[43m    \u001b[49m\u001b[43mignore_index\u001b[49m\u001b[38;5;241;43m=\u001b[39;49m\u001b[43mignore_index\u001b[49m\u001b[43m,\u001b[49m\n\u001b[1;32m    386\u001b[0m \u001b[43m    \u001b[49m\u001b[43mjoin\u001b[49m\u001b[38;5;241;43m=\u001b[39;49m\u001b[43mjoin\u001b[49m\u001b[43m,\u001b[49m\n\u001b[1;32m    387\u001b[0m \u001b[43m    \u001b[49m\u001b[43mkeys\u001b[49m\u001b[38;5;241;43m=\u001b[39;49m\u001b[43mkeys\u001b[49m\u001b[43m,\u001b[49m\n\u001b[1;32m    388\u001b[0m \u001b[43m    \u001b[49m\u001b[43mlevels\u001b[49m\u001b[38;5;241;43m=\u001b[39;49m\u001b[43mlevels\u001b[49m\u001b[43m,\u001b[49m\n\u001b[1;32m    389\u001b[0m \u001b[43m    \u001b[49m\u001b[43mnames\u001b[49m\u001b[38;5;241;43m=\u001b[39;49m\u001b[43mnames\u001b[49m\u001b[43m,\u001b[49m\n\u001b[1;32m    390\u001b[0m \u001b[43m    \u001b[49m\u001b[43mverify_integrity\u001b[49m\u001b[38;5;241;43m=\u001b[39;49m\u001b[43mverify_integrity\u001b[49m\u001b[43m,\u001b[49m\n\u001b[1;32m    391\u001b[0m \u001b[43m    \u001b[49m\u001b[43mcopy\u001b[49m\u001b[38;5;241;43m=\u001b[39;49m\u001b[43mcopy\u001b[49m\u001b[43m,\u001b[49m\n\u001b[1;32m    392\u001b[0m \u001b[43m    \u001b[49m\u001b[43msort\u001b[49m\u001b[38;5;241;43m=\u001b[39;49m\u001b[43msort\u001b[49m\u001b[43m,\u001b[49m\n\u001b[1;32m    393\u001b[0m \u001b[43m\u001b[49m\u001b[43m)\u001b[49m\n\u001b[1;32m    395\u001b[0m \u001b[38;5;28;01mreturn\u001b[39;00m op\u001b[38;5;241m.\u001b[39mget_result()\n",
      "File \u001b[0;32m~/Downloads/GRANOGAN-main/.venv/lib/python3.12/site-packages/pandas/core/reshape/concat.py:445\u001b[0m, in \u001b[0;36m_Concatenator.__init__\u001b[0;34m(self, objs, axis, join, keys, levels, names, ignore_index, verify_integrity, copy, sort)\u001b[0m\n\u001b[1;32m    442\u001b[0m \u001b[38;5;28mself\u001b[39m\u001b[38;5;241m.\u001b[39mverify_integrity \u001b[38;5;241m=\u001b[39m verify_integrity\n\u001b[1;32m    443\u001b[0m \u001b[38;5;28mself\u001b[39m\u001b[38;5;241m.\u001b[39mcopy \u001b[38;5;241m=\u001b[39m copy\n\u001b[0;32m--> 445\u001b[0m objs, keys \u001b[38;5;241m=\u001b[39m \u001b[38;5;28;43mself\u001b[39;49m\u001b[38;5;241;43m.\u001b[39;49m\u001b[43m_clean_keys_and_objs\u001b[49m\u001b[43m(\u001b[49m\u001b[43mobjs\u001b[49m\u001b[43m,\u001b[49m\u001b[43m \u001b[49m\u001b[43mkeys\u001b[49m\u001b[43m)\u001b[49m\n\u001b[1;32m    447\u001b[0m \u001b[38;5;66;03m# figure out what our result ndim is going to be\u001b[39;00m\n\u001b[1;32m    448\u001b[0m ndims \u001b[38;5;241m=\u001b[39m \u001b[38;5;28mself\u001b[39m\u001b[38;5;241m.\u001b[39m_get_ndims(objs)\n",
      "File \u001b[0;32m~/Downloads/GRANOGAN-main/.venv/lib/python3.12/site-packages/pandas/core/reshape/concat.py:507\u001b[0m, in \u001b[0;36m_Concatenator._clean_keys_and_objs\u001b[0;34m(self, objs, keys)\u001b[0m\n\u001b[1;32m    504\u001b[0m     objs_list \u001b[38;5;241m=\u001b[39m \u001b[38;5;28mlist\u001b[39m(objs)\n\u001b[1;32m    506\u001b[0m \u001b[38;5;28;01mif\u001b[39;00m \u001b[38;5;28mlen\u001b[39m(objs_list) \u001b[38;5;241m==\u001b[39m \u001b[38;5;241m0\u001b[39m:\n\u001b[0;32m--> 507\u001b[0m     \u001b[38;5;28;01mraise\u001b[39;00m \u001b[38;5;167;01mValueError\u001b[39;00m(\u001b[38;5;124m\"\u001b[39m\u001b[38;5;124mNo objects to concatenate\u001b[39m\u001b[38;5;124m\"\u001b[39m)\n\u001b[1;32m    509\u001b[0m \u001b[38;5;28;01mif\u001b[39;00m keys \u001b[38;5;129;01mis\u001b[39;00m \u001b[38;5;28;01mNone\u001b[39;00m:\n\u001b[1;32m    510\u001b[0m     objs_list \u001b[38;5;241m=\u001b[39m \u001b[38;5;28mlist\u001b[39m(com\u001b[38;5;241m.\u001b[39mnot_none(\u001b[38;5;241m*\u001b[39mobjs_list))\n",
      "\u001b[0;31mValueError\u001b[0m: No objects to concatenate"
     ]
    }
   ],
   "source": [
    "# define dataset object and data loader object for NAB dataset\n",
    "dataset = YahooDataset(data_settings=data_settings)\n",
    "dataloader = torch.utils.data.DataLoader(dataset, batch_size=opt_trn.batch_size,\n",
    "                                         shuffle=True, num_workers=int(opt_trn.workers))\n",
    "seq_len = dataset.window_length # sequence length is equal to the window length\n",
    "in_dim = dataset.n_feature # input dimension is same as number of feature\n",
    "n_features=dataset.x.shape[2]\n",
    "sequences=[x for i, (x,y) in enumerate(dataloader, 0)]"
   ]
  },
  {
   "cell_type": "code",
   "execution_count": 6,
   "id": "3fac0ab3-604d-45ce-b980-2ed4f199fa81",
   "metadata": {},
   "outputs": [],
   "source": [
    "device = torch.device(\"cuda\" if torch.cuda.is_available() else \"cpu\")\n"
   ]
  },
  {
   "cell_type": "code",
   "execution_count": 165,
   "id": "8fc459f1-1c86-4a43-b4ea-38ba410d9157",
   "metadata": {},
   "outputs": [
    {
     "data": {
      "text/plain": [
       "torch.Size([1379, 60, 1])"
      ]
     },
     "execution_count": 165,
     "metadata": {},
     "output_type": "execute_result"
    }
   ],
   "source": [
    "dataset.x.shape"
   ]
  },
  {
   "cell_type": "code",
   "execution_count": 166,
   "id": "9dcb82f3-b561-49b4-9ab5-da57e2a4556b",
   "metadata": {},
   "outputs": [
    {
     "data": {
      "text/plain": [
       "'\\nimport torch\\nimport sys\\nprint(\\'__Python VERSION:\\', sys.version)\\nprint(\\'__pyTorch VERSION:\\', torch.__version__)\\nprint(\\'__CUDA VERSION\\')\\nfrom subprocess import call\\n# call([\"nvcc\", \"--version\"]) does not work\\n! nvcc --version\\nprint(\\'__CUDNN VERSION:\\', torch.backends.cudnn.version())\\nprint(\\'__Number CUDA Devices:\\', torch.cuda.device_count())\\nprint(\\'__Devices\\')\\ncall([\"nvidia-smi\", \"--format=csv\", \"--query-gpu=index,name,driver_version,memory.total,memory.used,memory.free\"])\\nprint(\\'Active CUDA Device: GPU\\', torch.cuda.current_device())\\nprint (\\'Available devices \\', torch.cuda.device_count())\\nprint (\\'Current cuda device \\', torch.cuda.current_device())\\n'"
      ]
     },
     "execution_count": 166,
     "metadata": {},
     "output_type": "execute_result"
    }
   ],
   "source": [
    "'''\n",
    "import torch\n",
    "import sys\n",
    "print('__Python VERSION:', sys.version)\n",
    "print('__pyTorch VERSION:', torch.__version__)\n",
    "print('__CUDA VERSION')\n",
    "from subprocess import call\n",
    "# call([\"nvcc\", \"--version\"]) does not work\n",
    "! nvcc --version\n",
    "print('__CUDNN VERSION:', torch.backends.cudnn.version())\n",
    "print('__Number CUDA Devices:', torch.cuda.device_count())\n",
    "print('__Devices')\n",
    "call([\"nvidia-smi\", \"--format=csv\", \"--query-gpu=index,name,driver_version,memory.total,memory.used,memory.free\"])\n",
    "print('Active CUDA Device: GPU', torch.cuda.current_device())\n",
    "print ('Available devices ', torch.cuda.device_count())\n",
    "print ('Current cuda device ', torch.cuda.current_device())\n",
    "'''"
   ]
  },
  {
   "cell_type": "code",
   "execution_count": 167,
   "id": "f6072b9b-0f9f-49f5-a5e0-1033b5de4c84",
   "metadata": {},
   "outputs": [],
   "source": [
    "granoGAN=GranoGAN(device=device,opt_trn=opt_trn,windows_length=seq_len,n_features=n_features,in_dim=in_dim)"
   ]
  },
  {
   "cell_type": "markdown",
   "id": "f2b788bd-2f20-434c-82a2-d8d4804ec9b1",
   "metadata": {},
   "source": [
    "<h4>CriticX training</h4>"
   ]
  },
  {
   "cell_type": "code",
   "execution_count": 168,
   "id": "2cd17842-af83-4dd0-83c5-9e783228ab87",
   "metadata": {},
   "outputs": [
    {
     "name": "stderr",
     "output_type": "stream",
     "text": [
      "/home/jupyter/src/algorithms/GranoGAN.py:110: UserWarning: nn.init.normal is now deprecated in favor of nn.init.normal_.\n",
      "  noise = Variable(init.normal(torch.Tensor(batch_size,seq_len,self.in_dim),mean=self.mean,std=self.std))\n"
     ]
    },
    {
     "name": "stdout",
     "output_type": "stream",
     "text": [
      "Epoch 0: train loss -0.03929607113188302\n",
      "Epoch 1: train loss -0.08701304615559903\n",
      "Epoch 2: train loss -0.5738709424707022\n",
      "Epoch 3: train loss -0.8729897477410055\n",
      "Epoch 4: train loss -1.0260693490505217\n"
     ]
    }
   ],
   "source": [
    "criticX=granoGAN.train_criticX(sequences)"
   ]
  },
  {
   "cell_type": "code",
   "execution_count": 169,
   "id": "ab05d4b7-6b67-4ff1-985e-43203e488e8e",
   "metadata": {},
   "outputs": [],
   "source": [
    "PATH='/home/jupyter/GRANOGAN-IISC/src/saved_models/granogan/yahoo/criticX.pkl'\n"
   ]
  },
  {
   "cell_type": "code",
   "execution_count": 170,
   "id": "aaf631a2-40e5-4189-8339-5bb0611960e3",
   "metadata": {},
   "outputs": [],
   "source": [
    "torch.save(criticX.module.state_dict(), PATH)"
   ]
  },
  {
   "cell_type": "code",
   "execution_count": 171,
   "id": "c38cfd46-9cdf-4d9e-b9a8-29f16a2d39b0",
   "metadata": {},
   "outputs": [],
   "source": [
    "criticX=Critic(in_dim=in_dim,device=device)\n",
    "criticX=nn.DataParallel(criticX)\n",
    "criticX.to(device)\n",
    "state_dict = torch.load(PATH)\n",
    "criticX=granoGAN.load_model(state_dict,criticX)"
   ]
  },
  {
   "cell_type": "markdown",
   "id": "3894c389-1738-4dac-9a0e-10cabb58837a",
   "metadata": {},
   "source": [
    "<h4>CriticZ training</h4>"
   ]
  },
  {
   "cell_type": "code",
   "execution_count": 172,
   "id": "213570bb-9598-4a19-ab41-4d84b7873a7d",
   "metadata": {},
   "outputs": [
    {
     "name": "stderr",
     "output_type": "stream",
     "text": [
      "/home/jupyter/src/algorithms/GranoGAN.py:141: UserWarning: nn.init.normal is now deprecated in favor of nn.init.normal_.\n",
      "  noise = Variable(init.normal(torch.Tensor(batch_size,seq_len,self.in_dim),mean=self.mean,std=self.std))\n"
     ]
    },
    {
     "name": "stdout",
     "output_type": "stream",
     "text": [
      "Epoch 0: train loss -0.23922087509523735\n",
      "Epoch 1: train loss -1.5232262291691518\n",
      "Epoch 2: train loss -1.7195546914230697\n",
      "Epoch 3: train loss -1.7321915499188683\n",
      "Epoch 4: train loss -1.7612677639180965\n"
     ]
    }
   ],
   "source": [
    "criticZ=granoGAN.train_criticZ(sequences)"
   ]
  },
  {
   "cell_type": "code",
   "execution_count": 173,
   "id": "b4ab1831-b3ae-4f1d-a23b-628f022eae30",
   "metadata": {},
   "outputs": [],
   "source": [
    "PATH='/home/jupyter/GRANOGAN-IISC/src/saved_models/granogan/yahoo/criticZ.pkl'\n",
    "\n"
   ]
  },
  {
   "cell_type": "code",
   "execution_count": 174,
   "id": "918a72f1-7754-49c6-a285-d50c485afa7a",
   "metadata": {},
   "outputs": [],
   "source": [
    "torch.save(criticZ.module.state_dict(), PATH)"
   ]
  },
  {
   "cell_type": "code",
   "execution_count": 175,
   "id": "04ec74ad-e300-460e-88ad-72daaa05b3f1",
   "metadata": {},
   "outputs": [],
   "source": [
    "criticZ=Critic(in_dim=in_dim,device=device)\n",
    "criticZ=nn.DataParallel(criticZ)\n",
    "criticZ.to(device)\n",
    "state_dict = torch.load(PATH)\n",
    "criticZ=granoGAN.load_model(state_dict,criticZ)"
   ]
  },
  {
   "cell_type": "markdown",
   "id": "d568662f-7db5-4844-b6ed-285c0e89c5a7",
   "metadata": {},
   "source": [
    "<h4>Encoder and Decoder training</h4>"
   ]
  },
  {
   "cell_type": "code",
   "execution_count": 176,
   "id": "793dc7c2-fde0-46c9-922b-88ce941c3e16",
   "metadata": {},
   "outputs": [
    {
     "name": "stderr",
     "output_type": "stream",
     "text": [
      "/home/jupyter/src/algorithms/GranoGAN.py:173: UserWarning: nn.init.normal is now deprecated in favor of nn.init.normal_.\n",
      "  noise = Variable(init.normal(torch.Tensor(batch_size,seq_len,self.in_dim),mean=self.mean,std=self.std))\n"
     ]
    },
    {
     "name": "stdout",
     "output_type": "stream",
     "text": [
      "Epoch 0: train loss 2.417534801093015\n",
      "Epoch 1: train loss 2.3935671990567986\n",
      "Epoch 2: train loss 2.3569565577940508\n",
      "Epoch 3: train loss 1.081942011009563\n",
      "Epoch 4: train loss 0.6290351342071187\n"
     ]
    }
   ],
   "source": [
    "encoder,decoder=granoGAN.train_enc_dec(sequences)"
   ]
  },
  {
   "cell_type": "code",
   "execution_count": 177,
   "id": "27137de8-c3ec-4913-a115-b721080f47fd",
   "metadata": {},
   "outputs": [],
   "source": [
    "PATH_encoder='/home/jupyter/GRANOGAN-IISC/src/saved_models/granogan/yahoo/encoder.pkl'\n",
    "\n",
    "\n",
    "PATH_decoder='/home/jupyter/GRANOGAN-IISC/src/saved_models/granogan/yahoo/decoder.pkl'\n"
   ]
  },
  {
   "cell_type": "code",
   "execution_count": 178,
   "id": "195092fa-cf46-4d64-ba5c-6dfcd3c7daeb",
   "metadata": {},
   "outputs": [],
   "source": [
    "torch.save(encoder.module.state_dict(), PATH_encoder)\n",
    "torch.save(decoder.module.state_dict(), PATH_decoder)"
   ]
  },
  {
   "cell_type": "code",
   "execution_count": 179,
   "id": "d9494a73-1c46-444e-99b6-10511e5f487a",
   "metadata": {},
   "outputs": [],
   "source": [
    "encoder=Encoder(n_features=in_dim, embedding_dim=in_dim,device=device)\n",
    "encoder=nn.DataParallel(encoder)\n",
    "encoder.to(device)\n",
    "state_dict = torch.load(PATH_encoder)\n",
    "encoder=granoGAN.load_model(state_dict,encoder)"
   ]
  },
  {
   "cell_type": "code",
   "execution_count": 180,
   "id": "6a95708c-d420-42b4-ba56-0781bce35352",
   "metadata": {},
   "outputs": [],
   "source": [
    "decoder=Decoder(in_dim=in_dim,out_dim=in_dim,device=device)\n",
    "decoder=nn.DataParallel(decoder)\n",
    "decoder.to(device)\n",
    "state_dict = torch.load(PATH_decoder)\n",
    "decoder=granoGAN.load_model(state_dict,decoder)"
   ]
  },
  {
   "cell_type": "markdown",
   "id": "77068d3d-368f-4eee-8965-49cc34a2b197",
   "metadata": {},
   "source": [
    "<h4>Loading back saved models</h4>"
   ]
  },
  {
   "cell_type": "code",
   "execution_count": 181,
   "id": "6cefa0f9-dad7-4f91-ae15-38a17da50767",
   "metadata": {},
   "outputs": [],
   "source": [
    "granoGAN.initialize_models(criticX,criticZ,decoder,encoder)"
   ]
  },
  {
   "cell_type": "markdown",
   "id": "76f64ec1-2dcd-4bed-a759-09e969745120",
   "metadata": {},
   "source": [
    "<h2>Testing for anomaly</h2>"
   ]
  },
  {
   "cell_type": "code",
   "execution_count": 182,
   "id": "5957b56f-d35a-4035-91a1-e74474880bb5",
   "metadata": {},
   "outputs": [],
   "source": [
    "\n",
    "class ArgsTest:\n",
    "    workers = 1\n",
    "    batch_size = 1\n",
    "    \n",
    "opt_test=ArgsTest()\n",
    "\n",
    "class TestDataSettings:\n",
    "    \n",
    "    def __init__(self):\n",
    "        self.data_folder_path='/home/jupyter/GRANOGAN-IISC/data/yahoo/A1Benchmark/'\n",
    "        self.train=True\n",
    "        self.window_length=60        \n",
    "        \n",
    "test_data_settings = TestDataSettings()"
   ]
  },
  {
   "cell_type": "code",
   "execution_count": 183,
   "id": "87e905fc-83c2-498e-b0e7-f35424e992dd",
   "metadata": {},
   "outputs": [],
   "source": [
    "# define dataset object and data loader object in evaluation mood for NAB dataset\n",
    "\n",
    "test_dataset = YahooDataset(test_data_settings)\n",
    "test_dataloader = torch.utils.data.DataLoader(test_dataset, batch_size=opt_test.batch_size, \n",
    "                                         shuffle=False, num_workers=int(opt_test.workers))\n",
    "\n",
    "test_dataset.x.shape, test_dataset.y.shape, test_dataset.data_len # check the dataset shape\n",
    "test_sequences=[x for i, (x,y) in enumerate(test_dataloader, 0)]"
   ]
  },
  {
   "cell_type": "code",
   "execution_count": 184,
   "id": "37f48d23-9a05-4b1d-998a-578f058ee1cc",
   "metadata": {},
   "outputs": [],
   "source": [
    "losses=granoGAN.predict_loss(test_sequences)"
   ]
  },
  {
   "cell_type": "code",
   "execution_count": 185,
   "id": "8b67b5ce-3e0c-42ae-936a-7eedc04c3f92",
   "metadata": {},
   "outputs": [
    {
     "name": "stdout",
     "output_type": "stream",
     "text": [
      "1379\n"
     ]
    }
   ],
   "source": [
    "print(len(losses))"
   ]
  },
  {
   "cell_type": "code",
   "execution_count": 186,
   "id": "52a25647-31c2-4b62-9a24-2d77e98f1542",
   "metadata": {},
   "outputs": [],
   "source": [
    "import matplotlib.pyplot as plt\n",
    "import seaborn as sns"
   ]
  },
  {
   "cell_type": "code",
   "execution_count": 187,
   "id": "05196b97-6cbc-415b-bc35-c049d9fdb847",
   "metadata": {},
   "outputs": [
    {
     "data": {
      "image/png": "[encoded data removed]",
      "text/plain": [
       "<Figure size 1280x720 with 1 Axes>"
      ]
     },
     "metadata": {
      "needs_background": "light"
     },
     "output_type": "display_data"
    }
   ],
   "source": [
    "plt.figure(figsize=(16,9), dpi=80)\n",
    "plt.title('Loss Distribution', fontsize=16)\n",
    "sns.histplot(losses, bins = 20, kde= False, color = 'blue');\n",
    "#sns.distplot(losses, bins = 20, kde= True, color = 'blue');"
   ]
  },
  {
   "cell_type": "code",
   "execution_count": 230,
   "id": "fe8f9d67-1500-4271-9292-fc7da5fc5cf5",
   "metadata": {},
   "outputs": [
    {
     "data": {
      "image/png": "[encoded data removed]",
      "text/plain": [
       "<Figure size 432x288 with 1 Axes>"
      ]
     },
     "metadata": {
      "needs_background": "light"
     },
     "output_type": "display_data"
    }
   ],
   "source": [
    "THRESHOLD =0.51\n",
    "\n",
    "test_score_df = pd.DataFrame(index=range(len(losses)))\n",
    "test_score_df['loss'] = [loss/60 for loss in losses]\n",
    "test_score_df['y'] = test_dataset.y\n",
    "test_score_df['threshold'] = THRESHOLD\n",
    "test_score_df['anomaly'] = test_score_df.loss > test_score_df.threshold\n",
    "test_score_df['t'] = [x[59].item() for x in test_dataset.x]\n",
    "\n",
    "plt.plot( test_score_df.loss, label='loss')\n",
    "plt.plot( test_score_df.threshold, label='threshold')\n",
    "#plt.plot( test_score_df.y, label='y')\n",
    "plt.xticks(rotation=25)\n",
    "plt.legend();\n"
   ]
  },
  {
   "cell_type": "code",
   "execution_count": 231,
   "id": "6c196191-2308-4fea-ad91-13dcf1408285",
   "metadata": {},
   "outputs": [],
   "source": [
    "import numpy as np\n",
    "actual,predicted=improve_detection(test_score_df)"
   ]
  },
  {
   "cell_type": "code",
   "execution_count": 232,
   "id": "2062fbc6-09fe-4581-840c-5434bb147a22",
   "metadata": {},
   "outputs": [
    {
     "name": "stdout",
     "output_type": "stream",
     "text": [
      "True Positive\t 68\n",
      "True Negative\t 1246\n",
      "False Positive\t 59\n",
      "False Negative\t 6\n",
      "Accuracy\t 0.9528643944887599\n",
      "Precision\t 0.5354330708661418\n",
      "Recall\t 0.918918918918919\n",
      "f-measure\t 0.6766169154228856\n",
      "cohen_kappa_score\t 0.653092502215703\n",
      "auc\t 0.936854095474785\n",
      "roc_auc\t 0.936854095474785\n"
     ]
    }
   ],
   "source": [
    "\n",
    "from sklearn.metrics import cohen_kappa_score\n",
    "from sklearn.metrics import roc_curve, auc, roc_auc_score\n",
    "\n",
    "predicted = np.array(predicted)\n",
    "actual = np.array(actual)\n",
    "\n",
    "print_scores(predicted,actual)"
   ]
  },
  {
   "cell_type": "code",
   "execution_count": null,
   "id": "d0d86a1e-7205-4a64-8fa4-f9af9afc5c1e",
   "metadata": {},
   "outputs": [],
   "source": []
  },
  {
   "cell_type": "code",
   "execution_count": null,
   "id": "7f5e1481-62bf-4755-8d59-98c65b6f04b7",
   "metadata": {},
   "outputs": [],
   "source": []
  }
 ],
 "metadata": {
  "kernelspec": {
   "display_name": ".venv",
   "language": "python",
   "name": "python3"
  },
  "language_info": {
   "codemirror_mode": {
    "name": "ipython",
    "version": 3
   },
   "file_extension": ".py",
   "mimetype": "text/x-python",
   "name": "python",
   "nbconvert_exporter": "python",
   "pygments_lexer": "ipython3",
   "version": "3.12.3"
  }
 },
 "nbformat": 4,
 "nbformat_minor": 5
}
