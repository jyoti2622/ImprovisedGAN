{
 "cells": [
  {
   "cell_type": "code",
   "execution_count": 245,
   "id": "cf021d2d-0571-4ff0-a25f-6fc63467c552",
   "metadata": {},
   "outputs": [],
   "source": [
    "import torch\n",
    "import torch.nn as nn \n",
    "import pandas as pd\n",
    "import numpy as np\n",
    "import time\n",
    "import torch.backends.cudnn as cudnn\n",
    "from torch.autograd import Variable\n",
    "import datetime\n",
    "from sklearn.impute import SimpleImputer\n",
    "from sklearn.decomposition import PCA"
   ]
  },
  {
   "cell_type": "code",
   "execution_count": 246,
   "id": "6c2c94e3-32f0-4fe4-8663-04425af16abb",
   "metadata": {},
   "outputs": [],
   "source": [
    "from src.algorithms.LSTMAutoencoder import LSTMAutoencoderAlgo\n",
    "from src.utils.util import *\n",
    "from src.dataset.wadi import WadiDataset\n",
    "from src.model.modelLSTM import Encoder,Decoder,LSTMAutoencoder"
   ]
  },
  {
   "cell_type": "code",
   "execution_count": 247,
   "id": "69a1dabb-f72a-4ed7-b647-9f3d0e76183c",
   "metadata": {},
   "outputs": [
    {
     "name": "stdout",
     "output_type": "stream",
     "text": [
      "13:17:05\n"
     ]
    }
   ],
   "source": [
    "#This is the beginning of programm\n",
    "t = time.localtime()\n",
    "current_time = time.strftime(\"%H:%M:%S\", t)\n",
    "print(current_time)\n",
    "    \n"
   ]
  },
  {
   "cell_type": "markdown",
   "id": "5c5f97d7-f3d9-4285-92e9-f09d1b3439f2",
   "metadata": {},
   "source": [
    "<h4>Initializing Dataset</h4>"
   ]
  },
  {
   "cell_type": "code",
   "execution_count": 248,
   "id": "20a6dc01-f88a-4ad0-b95d-01b35be21323",
   "metadata": {},
   "outputs": [],
   "source": [
    "class ArgsTrn:\n",
    "    workers=4\n",
    "    batch_size=32\n",
    "    epochs=5\n",
    "    lr=0.0002\n",
    "    cuda = True\n",
    "    manualSeed=2\n",
    "    mean=0\n",
    "    std=0.1\n",
    "    \n",
    "opt_trn=ArgsTrn()\n",
    "torch.manual_seed(opt_trn.manualSeed)\n",
    "\n",
    "\n",
    "class Datasettings:\n",
    "    \n",
    "    def __init__(self):\n",
    "        self.dataset_training_name=\"/home/jupyter/GRANOGAN-IISC/data/wadi/WADI_14days.csv\"\n",
    "        self.dataset_test_name=\"/home/jupyter/GRANOGAN-IISC/data/wadi/WADI_attackdata.csv\"\n",
    "        self.dataset_anomaly_name=\"/home/jupyter/GRANOGAN-IISC/data/wadi/WADI_anomalies.csv\"\n",
    "        self.train=True\n",
    "        self.window_length=60"
   ]
  },
  {
   "cell_type": "code",
   "execution_count": 249,
   "id": "088d6abd-8a74-4e48-a342-583e445500a1",
   "metadata": {},
   "outputs": [],
   "source": [
    "seed=0\n",
    "data_settings = Datasettings()\n",
    "wadi = WadiDataset(seed,data_settings)"
   ]
  },
  {
   "cell_type": "code",
   "execution_count": 250,
   "id": "8058d459-b9d2-4a4b-b85c-9d434b6d8bf6",
   "metadata": {},
   "outputs": [
    {
     "name": "stdout",
     "output_type": "stream",
     "text": [
      "(1209601, 126)\n",
      "Total Number of anomalies in train set = 0\n",
      "Total Number of anomalies in test set = 9948\n",
      "% of anomalies in the test set = 5.7569111289865225\n",
      "number of anomalous events = 14\n"
     ]
    }
   ],
   "source": [
    "x_train, y_train, x_test, y_test = wadi.data()"
   ]
  },
  {
   "cell_type": "code",
   "execution_count": 251,
   "id": "eccaec7e-bd43-4424-a285-2a1d0812dc8b",
   "metadata": {},
   "outputs": [],
   "source": [
    "imputer = SimpleImputer(missing_values=np.nan, strategy='mean')\n",
    "imputer = imputer.fit(x_train)\n",
    "x_train = imputer.transform(x_train)"
   ]
  },
  {
   "cell_type": "code",
   "execution_count": 252,
   "id": "3da40aa2-7fe3-40cc-972d-a9be2ab0774f",
   "metadata": {},
   "outputs": [],
   "source": [
    "reduced_dimesnion=3\n",
    "pca = PCA(n_components=reduced_dimesnion, svd_solver='full')\n",
    "pca.fit(x_train)\n",
    "x_train=pca.transform(x_train)"
   ]
  },
  {
   "cell_type": "code",
   "execution_count": 253,
   "id": "9e8832a2-22bd-4ab1-b378-b6dd52a18fb4",
   "metadata": {},
   "outputs": [],
   "source": [
    "pca = PCA(n_components=reduced_dimesnion, svd_solver='full')\n",
    "pca.fit(x_test)\n",
    "x_test=pca.transform(x_test)"
   ]
  },
  {
   "cell_type": "code",
   "execution_count": 254,
   "id": "3bae54da-32af-4661-a6fc-eb03eab842e8",
   "metadata": {},
   "outputs": [],
   "source": [
    "sequences,y_train_per_window = get_sub_seqs(x_train,y_train, seq_len=60, stride=1,\n",
    "                                 start_discont=np.array([]))"
   ]
  },
  {
   "cell_type": "code",
   "execution_count": 255,
   "id": "42f280ed-35bb-4a86-91ae-69c9887cac73",
   "metadata": {},
   "outputs": [],
   "source": [
    "train_loader, train_val_loader = get_train_data_loaders(sequences, batch_size=32,\n",
    "                                                                splits=[1 - 0.2,\n",
    "                                                                        0.2], seed=0)"
   ]
  },
  {
   "cell_type": "code",
   "execution_count": 256,
   "id": "7a7fcd81-6efa-424d-8661-d7979e4b5eae",
   "metadata": {},
   "outputs": [],
   "source": [
    "device = torch.device(\"cuda\" if torch.cuda.is_available() else \"cpu\")\n",
    "seq_len = wadi.window_length # sequence length is equal to the window length\n",
    "in_dim = reduced_dimesnion # input dimension is same as number of feature\n",
    "n_features=reduced_dimesnion"
   ]
  },
  {
   "cell_type": "code",
   "execution_count": 257,
   "id": "c761b022-b6c7-4f5e-aa49-ecb8c49d6559",
   "metadata": {},
   "outputs": [],
   "source": [
    "embedding_dim=16\n",
    "lstmAutoencoderAlgo=LSTMAutoencoderAlgo(device=device,opt_trn=opt_trn,windows_length=seq_len,n_features=n_features,embedding_dim=embedding_dim)"
   ]
  },
  {
   "cell_type": "code",
   "execution_count": null,
   "id": "2aa34d7e-8e1a-4c73-a54e-63b7adf8d709",
   "metadata": {},
   "outputs": [],
   "source": [
    "trained_autoencoder=lstmAutoencoderAlgo.train_autoencoder(train_loader)"
   ]
  },
  {
   "cell_type": "code",
   "execution_count": 258,
   "id": "fbf6619a-6d79-4dc4-9c04-20c9be512a0d",
   "metadata": {},
   "outputs": [],
   "source": [
    "PATH='/home/jupyter/GRANOGAN-IISC/src/saved_models/LSTMAutoencoder/wadi/autoencoder.pkl'"
   ]
  },
  {
   "cell_type": "code",
   "execution_count": null,
   "id": "61232aff-1438-40f4-94b2-9e7957727353",
   "metadata": {},
   "outputs": [],
   "source": [
    "torch.save(trained_autoencoder.module.state_dict(), PATH)"
   ]
  },
  {
   "cell_type": "code",
   "execution_count": 259,
   "id": "391e9b11-3f83-46f8-87ca-c5029f4c7755",
   "metadata": {},
   "outputs": [],
   "source": [
    "state_dict = torch.load(PATH)\n",
    "trained_autoencoder=LSTMAutoencoder(embedding_dim, n_features,device=device)\n",
    "trained_autoencoder=nn.DataParallel(trained_autoencoder)\n",
    "trained_autoencoder.to(device)\n",
    "trained_autoencoder=lstmAutoencoderAlgo.load_model(state_dict,trained_autoencoder)"
   ]
  },
  {
   "cell_type": "markdown",
   "id": "d7580cb7-c160-4c84-938d-6a4fedae59df",
   "metadata": {},
   "source": [
    "<h4>Loading back the saved models</h4>"
   ]
  },
  {
   "cell_type": "code",
   "execution_count": 260,
   "id": "f14fe50e-d3a6-4cbe-b94a-9f1465e89dab",
   "metadata": {},
   "outputs": [],
   "source": [
    "lstmAutoencoderAlgo.intialize_lstmautoencoder(trained_autoencoder)"
   ]
  },
  {
   "cell_type": "markdown",
   "id": "5d5176a8-567b-4ef4-b319-eec33383ac82",
   "metadata": {},
   "source": [
    "<h2>Testing for anomaly</h2>\n"
   ]
  },
  {
   "cell_type": "code",
   "execution_count": 261,
   "id": "ca474614-182e-44b4-99eb-1830ca0b1ea6",
   "metadata": {},
   "outputs": [],
   "source": [
    "sequences,y_test_per_window = get_sub_seqs(x_test,y_test, seq_len=60, stride=60, start_discont=np.array([]))\n",
    "test_loader = DataLoader(dataset=sequences, batch_size=1,  num_workers=4,\n",
    "                                 shuffle=False)"
   ]
  },
  {
   "cell_type": "code",
   "execution_count": 262,
   "id": "8321d539-5d9a-4ce8-a56b-ed7d9deb571c",
   "metadata": {},
   "outputs": [],
   "source": [
    "losses=lstmAutoencoderAlgo.predict_loss(test_loader)"
   ]
  },
  {
   "cell_type": "code",
   "execution_count": 263,
   "id": "0f90a27a-9e22-4e3b-941e-fbc88de7afc9",
   "metadata": {},
   "outputs": [],
   "source": [
    "import matplotlib.pyplot as plt\n",
    "import seaborn as sns"
   ]
  },
  {
   "cell_type": "code",
   "execution_count": 264,
   "id": "170212cf-5d78-44e9-b6fd-91a95156afd9",
   "metadata": {},
   "outputs": [
    {
     "data": {
      "image/png": "[encoded data removed]",
      "text/plain": [
       "<Figure size 1280x720 with 1 Axes>"
      ]
     },
     "metadata": {
      "needs_background": "light"
     },
     "output_type": "display_data"
    }
   ],
   "source": [
    "plt.figure(figsize=(16,9), dpi=80)\n",
    "plt.title('Loss Distribution', fontsize=16)\n",
    "sns.histplot(losses, bins = 20, kde= False, color = 'blue');\n",
    "#sns.distplot(losses, bins = 20, kde= True, color = 'blue');"
   ]
  },
  {
   "cell_type": "code",
   "execution_count": 277,
   "id": "f98947ae-8a9c-46ee-90cb-ead26d5132f6",
   "metadata": {},
   "outputs": [
    {
     "data": {
      "image/png": "[encoded data removed]",
      "text/plain": [
       "<Figure size 432x288 with 1 Axes>"
      ]
     },
     "metadata": {
      "needs_background": "light"
     },
     "output_type": "display_data"
    }
   ],
   "source": [
    "THRESHOLD =30\n",
    "\n",
    "\n",
    "test_score_df = pd.DataFrame(index=range(len(losses)))\n",
    "test_score_df['loss'] = [loss/60 for loss in losses]\n",
    "test_score_df['y'] = y_test_per_window\n",
    "test_score_df['threshold'] = THRESHOLD\n",
    "test_score_df['anomaly'] = test_score_df.loss > test_score_df.threshold\n",
    "#test_score_df['t'] = [x[59].item() for x in sequences]\n",
    "\n",
    "plt.plot( test_score_df.loss, label='loss')\n",
    "plt.plot( test_score_df.threshold, label='threshold')\n",
    "#plt.plot( test_score_df.y, label='y')\n",
    "plt.xticks(rotation=25)\n",
    "plt.legend();"
   ]
  },
  {
   "cell_type": "code",
   "execution_count": 278,
   "id": "9d8ecd2e-d908-4720-a5a6-a74eb697bf13",
   "metadata": {},
   "outputs": [],
   "source": [
    "import numpy as np\n",
    "actual,predicted=improve_detection(test_score_df)"
   ]
  },
  {
   "cell_type": "code",
   "execution_count": 279,
   "id": "90273349-80c9-4b98-aea5-8226757c8da3",
   "metadata": {},
   "outputs": [
    {
     "name": "stdout",
     "output_type": "stream",
     "text": [
      "True Positive\t 1109\n",
      "True Negative\t 161966\n",
      "False Positive\t 2\n",
      "False Negative\t 9665\n",
      "Accuracy\t 0.9440379293975988\n",
      "Precision\t 0.9981998199819982\n",
      "Recall\t 0.10293298682012252\n",
      "f-measure\t 0.18662179217501054\n",
      "cohen_kappa_score\t 0.17702534768880418\n",
      "auc\t 0.5514603193509879\n",
      "roc_auc\t 0.5514603193509879\n"
     ]
    }
   ],
   "source": [
    "\n",
    "from sklearn.metrics import cohen_kappa_score\n",
    "from sklearn.metrics import roc_curve, auc, roc_auc_score\n",
    "\n",
    "predicted = np.array(predicted)\n",
    "actual = np.array(actual)\n",
    "\n",
    "print_scores(predicted,actual)"
   ]
  },
  {
   "cell_type": "code",
   "execution_count": null,
   "id": "85588eef-7d93-487c-bcdd-3c902cb18213",
   "metadata": {},
   "outputs": [],
   "source": []
  },
  {
   "cell_type": "code",
   "execution_count": null,
   "id": "dcfeaeb9-2a6f-400d-bebc-dd2e865d9ce3",
   "metadata": {},
   "outputs": [],
   "source": []
  }
 ],
 "metadata": {
  "kernelspec": {
   "display_name": "Default_env_55760",
   "language": "python",
   "name": "46016"
  },
  "language_info": {
   "codemirror_mode": {
    "name": "ipython",
    "version": 3
   },
   "file_extension": ".py",
   "mimetype": "text/x-python",
   "name": "python",
   "nbconvert_exporter": "python",
   "pygments_lexer": "ipython3",
   "version": "3.8.10"
  }
 },
 "nbformat": 4,
 "nbformat_minor": 5
}
