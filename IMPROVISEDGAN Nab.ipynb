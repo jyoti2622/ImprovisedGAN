{
 "cells": [
  {
   "cell_type": "code",
   "execution_count": 1,
   "id": "09700251-c3ca-48c0-8db3-8d3f41db2e57",
   "metadata": {},
   "outputs": [],
   "source": [
    "import torch\n",
    "import torch.nn as nn \n",
    "import pandas as pd\n",
    "import numpy as np\n",
    "import time\n",
    "import torch.backends.cudnn as cudnn\n",
    "from torch.autograd import Variable\n",
    "import datetime\n",
    "import os\n",
    "from pathlib import Path\n"
   ]
  },
  {
   "cell_type": "code",
   "execution_count": 2,
   "id": "39c6bcd6-1358-44d7-ad70-b92579b9cd5a",
   "metadata": {},
   "outputs": [
    {
     "name": "stderr",
     "output_type": "stream",
     "text": [
      "/Users/ss049a/gitWorkspace/ImprovisedGAN/.venv/lib/python3.12/site-packages/threadpoolctl.py:1214: RuntimeWarning: \n",
      "Found Intel OpenMP ('libiomp') and LLVM OpenMP ('libomp') loaded at\n",
      "the same time. Both libraries are known to be incompatible and this\n",
      "can cause random crashes or deadlocks on Linux when loaded in the\n",
      "same Python program.\n",
      "Using threadpoolctl may cause crashes or deadlocks. For more\n",
      "information and possible workarounds, please see\n",
      "    https://github.com/joblib/threadpoolctl/blob/master/multiple_openmp.md\n",
      "\n",
      "  warnings.warn(msg, RuntimeWarning)\n"
     ]
    }
   ],
   "source": [
    "from src.model.modelImprovisedGan import Encoder,Decoder,Critic\n",
    "from src.utils.losses import Wasserstein\n",
    "from src.utils.util import *\n",
    "from src.dataset.Nabdataset import NabDataset\n",
    "from src.algorithms.ImprovisedGAN import ImprovisedGAN"
   ]
  },
  {
   "cell_type": "code",
   "execution_count": 3,
   "id": "6288f4ef-0baa-4470-94a7-389a9455ecd4",
   "metadata": {},
   "outputs": [
    {
     "name": "stdout",
     "output_type": "stream",
     "text": [
      "23:33:54\n"
     ]
    }
   ],
   "source": [
    "#This is the beginning of programm\n",
    "t = time.localtime()\n",
    "current_time = time.strftime(\"%H:%M:%S\", t)\n",
    "print(current_time)\n",
    "    \n"
   ]
  },
  {
   "cell_type": "markdown",
   "id": "a54e1628-1bc0-40f8-a557-d4a9972ba6ec",
   "metadata": {},
   "source": [
    "<h4>Initializing Dataset</h4>"
   ]
  },
  {
   "cell_type": "code",
   "execution_count": 36,
   "id": "4e0ff27c-56cf-445e-b10c-6d888c1d4316",
   "metadata": {},
   "outputs": [],
   "source": [
    "class ArgsTrn:\n",
    "    workers=4\n",
    "    batch_size=32\n",
    "    epochs=5\n",
    "    lr=0.0002\n",
    "    cuda = True\n",
    "    manualSeed=2\n",
    "    mean=0\n",
    "    std=0.1\n",
    "    \n",
    "opt_trn=ArgsTrn()\n",
    "    \n",
    "opt_trn=ArgsTrn()\n",
    "torch.manual_seed(opt_trn.manualSeed)\n",
    "\n",
    "\n",
    "\n",
    "class Datasettings:\n",
    "    \n",
    "    def __init__(self):\n",
    "        end_name='exchange-2_cpc_results.csv'\n",
    "        self.data_folder_path = Path.cwd().joinpath(\"data\", \"nab\")\n",
    "        key='realAdExchange/'+end_name \n",
    "        self.label_file = './lables/combined_windows.json'\n",
    "        self.key=key\n",
    "        self.train=True\n",
    "        self.window_length=60"
   ]
  },
  {
   "cell_type": "code",
   "execution_count": 37,
   "id": "d9b0411b-a6c6-4065-9209-44fd14d56459",
   "metadata": {},
   "outputs": [
    {
     "name": "stdout",
     "output_type": "stream",
     "text": [
      "data_folder_path /Users/ss049a/gitWorkspace/ImprovisedGAN/data/nab\n"
     ]
    },
    {
     "name": "stderr",
     "output_type": "stream",
     "text": [
      "/Users/ss049a/gitWorkspace/ImprovisedGAN/.venv/lib/python3.12/site-packages/threadpoolctl.py:1214: RuntimeWarning: \n",
      "Found Intel OpenMP ('libiomp') and LLVM OpenMP ('libomp') loaded at\n",
      "the same time. Both libraries are known to be incompatible and this\n",
      "can cause random crashes or deadlocks on Linux when loaded in the\n",
      "same Python program.\n",
      "Using threadpoolctl may cause crashes or deadlocks. For more\n",
      "information and possible workarounds, please see\n",
      "    https://github.com/joblib/threadpoolctl/blob/master/multiple_openmp.md\n",
      "\n",
      "  warnings.warn(msg, RuntimeWarning)\n",
      "/Users/ss049a/gitWorkspace/ImprovisedGAN/.venv/lib/python3.12/site-packages/threadpoolctl.py:1214: RuntimeWarning: \n",
      "Found Intel OpenMP ('libiomp') and LLVM OpenMP ('libomp') loaded at\n",
      "the same time. Both libraries are known to be incompatible and this\n",
      "can cause random crashes or deadlocks on Linux when loaded in the\n",
      "same Python program.\n",
      "Using threadpoolctl may cause crashes or deadlocks. For more\n",
      "information and possible workarounds, please see\n",
      "    https://github.com/joblib/threadpoolctl/blob/master/multiple_openmp.md\n",
      "\n",
      "  warnings.warn(msg, RuntimeWarning)\n",
      "/Users/ss049a/gitWorkspace/ImprovisedGAN/.venv/lib/python3.12/site-packages/threadpoolctl.py:1214: RuntimeWarning: \n",
      "Found Intel OpenMP ('libiomp') and LLVM OpenMP ('libomp') loaded at\n",
      "the same time. Both libraries are known to be incompatible and this\n",
      "can cause random crashes or deadlocks on Linux when loaded in the\n",
      "same Python program.\n",
      "Using threadpoolctl may cause crashes or deadlocks. For more\n",
      "information and possible workarounds, please see\n",
      "    https://github.com/joblib/threadpoolctl/blob/master/multiple_openmp.md\n",
      "\n",
      "  warnings.warn(msg, RuntimeWarning)\n",
      "/Users/ss049a/gitWorkspace/ImprovisedGAN/.venv/lib/python3.12/site-packages/threadpoolctl.py:1214: RuntimeWarning: \n",
      "Found Intel OpenMP ('libiomp') and LLVM OpenMP ('libomp') loaded at\n",
      "the same time. Both libraries are known to be incompatible and this\n",
      "can cause random crashes or deadlocks on Linux when loaded in the\n",
      "same Python program.\n",
      "Using threadpoolctl may cause crashes or deadlocks. For more\n",
      "information and possible workarounds, please see\n",
      "    https://github.com/joblib/threadpoolctl/blob/master/multiple_openmp.md\n",
      "\n",
      "  warnings.warn(msg, RuntimeWarning)\n"
     ]
    }
   ],
   "source": [
    "data_settings = Datasettings()\n",
    "dataset = NabDataset(data_settings=data_settings)\n",
    "dataloader = torch.utils.data.DataLoader(dataset, batch_size=opt_trn.batch_size,\n",
    "                                         shuffle=True, num_workers=int(opt_trn.workers))\n",
    "seq_len = dataset.window_length # sequence length is equal to the window length\n",
    "in_dim = dataset.n_feature # input dimension is same as number of feature\n",
    "n_features=dataset.x.shape[2]\n",
    "sequences=[x for i, (x,y) in enumerate(dataloader, 0)]"
   ]
  },
  {
   "cell_type": "code",
   "execution_count": 33,
   "id": "3fac0ab3-604d-45ce-b980-2ed4f199fa81",
   "metadata": {},
   "outputs": [],
   "source": [
    "device = torch.device(\"cuda\" if torch.cuda.is_available() else \"cpu\")\n"
   ]
  },
  {
   "cell_type": "code",
   "execution_count": 34,
   "id": "8fc459f1-1c86-4a43-b4ea-38ba410d9157",
   "metadata": {},
   "outputs": [
    {
     "data": {
      "text/plain": [
       "torch.Size([17303, 60, 1])"
      ]
     },
     "execution_count": 34,
     "metadata": {},
     "output_type": "execute_result"
    }
   ],
   "source": [
    "dataset.x.shape"
   ]
  },
  {
   "cell_type": "code",
   "execution_count": 8,
   "id": "9dcb82f3-b561-49b4-9ab5-da57e2a4556b",
   "metadata": {},
   "outputs": [
    {
     "data": {
      "text/plain": [
       "'\\nimport torch\\nimport sys\\nprint(\\'__Python VERSION:\\', sys.version)\\nprint(\\'__pyTorch VERSION:\\', torch.__version__)\\nprint(\\'__CUDA VERSION\\')\\nfrom subprocess import call\\n# call([\"nvcc\", \"--version\"]) does not work\\n! nvcc --version\\nprint(\\'__CUDNN VERSION:\\', torch.backends.cudnn.version())\\nprint(\\'__Number CUDA Devices:\\', torch.cuda.device_count())\\nprint(\\'__Devices\\')\\ncall([\"nvidia-smi\", \"--format=csv\", \"--query-gpu=index,name,driver_version,memory.total,memory.used,memory.free\"])\\nprint(\\'Active CUDA Device: GPU\\', torch.cuda.current_device())\\nprint (\\'Available devices \\', torch.cuda.device_count())\\nprint (\\'Current cuda device \\', torch.cuda.current_device())\\n'"
      ]
     },
     "execution_count": 8,
     "metadata": {},
     "output_type": "execute_result"
    }
   ],
   "source": [
    "'''\n",
    "import torch\n",
    "import sys\n",
    "print('__Python VERSION:', sys.version)\n",
    "print('__pyTorch VERSION:', torch.__version__)\n",
    "print('__CUDA VERSION')\n",
    "from subprocess import call\n",
    "# call([\"nvcc\", \"--version\"]) does not work\n",
    "! nvcc --version\n",
    "print('__CUDNN VERSION:', torch.backends.cudnn.version())\n",
    "print('__Number CUDA Devices:', torch.cuda.device_count())\n",
    "print('__Devices')\n",
    "call([\"nvidia-smi\", \"--format=csv\", \"--query-gpu=index,name,driver_version,memory.total,memory.used,memory.free\"])\n",
    "print('Active CUDA Device: GPU', torch.cuda.current_device())\n",
    "print ('Available devices ', torch.cuda.device_count())\n",
    "print ('Current cuda device ', torch.cuda.current_device())\n",
    "'''"
   ]
  },
  {
   "cell_type": "code",
   "execution_count": 35,
   "id": "f6072b9b-0f9f-49f5-a5e0-1033b5de4c84",
   "metadata": {},
   "outputs": [],
   "source": [
    "improvisedGAN=ImprovisedGAN(device=device,opt_trn=opt_trn,windows_length=seq_len,n_features=n_features,in_dim=in_dim)"
   ]
  },
  {
   "cell_type": "markdown",
   "id": "f2b788bd-2f20-434c-82a2-d8d4804ec9b1",
   "metadata": {},
   "source": [
    "<h4>CriticX training</h4>"
   ]
  },
  {
   "cell_type": "code",
   "execution_count": 10,
   "id": "2cd17842-af83-4dd0-83c5-9e783228ab87",
   "metadata": {},
   "outputs": [
    {
     "name": "stderr",
     "output_type": "stream",
     "text": [
      "/Users/ss049a/gitWorkspace/ImprovisedGAN/src/algorithms/ImprovisedGAN.py:110: UserWarning: nn.init.normal is now deprecated in favor of nn.init.normal_.\n",
      "  noise = Variable(init.normal(torch.Tensor(batch_size,seq_len,self.in_dim),mean=self.mean,std=self.std))\n"
     ]
    },
    {
     "name": "stdout",
     "output_type": "stream",
     "text": [
      "Epoch 0: train loss -0.5645150644735686\n",
      "Epoch 1: train loss -0.1021029700578471\n",
      "Epoch 2: train loss 0.002376608949932726\n",
      "Epoch 3: train loss -0.007583002396299747\n",
      "Epoch 4: train loss -0.010867427644111532\n"
     ]
    }
   ],
   "source": [
    "criticX=improvisedGAN.train_criticX(sequences)"
   ]
  },
  {
   "cell_type": "code",
   "execution_count": 11,
   "id": "ab05d4b7-6b67-4ff1-985e-43203e488e8e",
   "metadata": {},
   "outputs": [],
   "source": [
    "PATH = Path.cwd().joinpath(\"src\",\"saved_models\",\"improvisedgan\",\"nab\", \"criticX.pkl\")\n"
   ]
  },
  {
   "cell_type": "code",
   "execution_count": 12,
   "id": "7a588e1b-2d4a-4f70-a619-d79edd3537d0",
   "metadata": {},
   "outputs": [],
   "source": [
    "torch.save(criticX.module.state_dict(), PATH)"
   ]
  },
  {
   "cell_type": "code",
   "execution_count": 13,
   "id": "cfab9083-65d9-47e4-8b9f-412102259a4c",
   "metadata": {},
   "outputs": [],
   "source": [
    "criticX=Critic(in_dim=in_dim,device=device)\n",
    "criticX=nn.DataParallel(criticX)\n",
    "criticX.to(device)\n",
    "state_dict = torch.load(PATH)\n",
    "criticX=improvisedGAN.load_model(state_dict,criticX)"
   ]
  },
  {
   "cell_type": "markdown",
   "id": "3894c389-1738-4dac-9a0e-10cabb58837a",
   "metadata": {},
   "source": [
    "<h4>CriticZ training</h4>"
   ]
  },
  {
   "cell_type": "code",
   "execution_count": 14,
   "id": "213570bb-9598-4a19-ab41-4d84b7873a7d",
   "metadata": {},
   "outputs": [
    {
     "name": "stderr",
     "output_type": "stream",
     "text": [
      "/Users/ss049a/gitWorkspace/ImprovisedGAN/src/algorithms/ImprovisedGAN.py:141: UserWarning: nn.init.normal is now deprecated in favor of nn.init.normal_.\n",
      "  noise = Variable(init.normal(torch.Tensor(batch_size,seq_len,self.in_dim),mean=self.mean,std=self.std))\n"
     ]
    },
    {
     "name": "stdout",
     "output_type": "stream",
     "text": [
      "Epoch 0: train loss -0.801319845948995\n",
      "Epoch 1: train loss -0.007405769353983803\n",
      "Epoch 2: train loss -0.03040169961681648\n",
      "Epoch 3: train loss -1.6518096591760845\n",
      "Epoch 4: train loss -1.2628028450137807\n"
     ]
    }
   ],
   "source": [
    "criticZ=improvisedGAN.train_criticZ(sequences)"
   ]
  },
  {
   "cell_type": "code",
   "execution_count": 15,
   "id": "d4c0bb16-7eb1-451d-9a84-6bbbfc9e6fb7",
   "metadata": {},
   "outputs": [],
   "source": [
    "PATH = Path.cwd().joinpath(\"src\",\"saved_models\",\"improvisedgan\",\"nab\", \"criticZ.pkl\")\n"
   ]
  },
  {
   "cell_type": "code",
   "execution_count": 16,
   "id": "e0426a11-8f32-4653-b765-d6b6d68316d8",
   "metadata": {},
   "outputs": [],
   "source": [
    "torch.save(criticZ.module.state_dict(), PATH)"
   ]
  },
  {
   "cell_type": "code",
   "execution_count": 17,
   "id": "b4ab1831-b3ae-4f1d-a23b-628f022eae30",
   "metadata": {},
   "outputs": [],
   "source": [
    "criticZ=Critic(in_dim=in_dim,device=device)\n",
    "criticZ=nn.DataParallel(criticZ)\n",
    "criticZ.to(device)\n",
    "state_dict = torch.load(PATH)\n",
    "criticZ=improvisedGAN.load_model(state_dict,criticZ)"
   ]
  },
  {
   "cell_type": "markdown",
   "id": "d568662f-7db5-4844-b6ed-285c0e89c5a7",
   "metadata": {},
   "source": [
    "<h4>Encoder and Decoder training</h4>"
   ]
  },
  {
   "cell_type": "code",
   "execution_count": 18,
   "id": "793dc7c2-fde0-46c9-922b-88ce941c3e16",
   "metadata": {},
   "outputs": [
    {
     "name": "stderr",
     "output_type": "stream",
     "text": [
      "/Users/ss049a/gitWorkspace/ImprovisedGAN/src/algorithms/ImprovisedGAN.py:173: UserWarning: nn.init.normal is now deprecated in favor of nn.init.normal_.\n",
      "  noise = Variable(init.normal(torch.Tensor(batch_size,seq_len,self.in_dim),mean=self.mean,std=self.std))\n"
     ]
    },
    {
     "name": "stdout",
     "output_type": "stream",
     "text": [
      "Epoch 0: train loss 0.8531242915861267\n",
      "Epoch 1: train loss 0.08540162614885849\n",
      "Epoch 2: train loss 0.030826344672941677\n",
      "Epoch 3: train loss -0.017223625053099035\n",
      "Epoch 4: train loss -0.041819861823221234\n"
     ]
    }
   ],
   "source": [
    "encoder,decoder=improvisedGAN.train_enc_dec(sequences)"
   ]
  },
  {
   "cell_type": "code",
   "execution_count": 19,
   "id": "27137de8-c3ec-4913-a115-b721080f47fd",
   "metadata": {},
   "outputs": [],
   "source": [
    "PATH_encoder = Path.cwd().joinpath(\"src\",\"saved_models\",\"improvisedgan\",\"nab\", \"encoder.pkl\")\n",
    "\n",
    "PATH_decoder = Path.cwd().joinpath(\"src\",\"saved_models\",\"improvisedgan\",\"nab\", \"decoder.pkl\")"
   ]
  },
  {
   "cell_type": "code",
   "execution_count": 20,
   "id": "a6e0c3e2-bb19-44c6-a1ba-0cb4eec22d74",
   "metadata": {},
   "outputs": [],
   "source": [
    "torch.save(encoder.module.state_dict(), PATH_encoder)\n",
    "torch.save(decoder.module.state_dict(), PATH_decoder)"
   ]
  },
  {
   "cell_type": "code",
   "execution_count": 21,
   "id": "8f7e6ca8-6324-47dc-98ad-2d18f67fbf75",
   "metadata": {},
   "outputs": [],
   "source": [
    "encoder=Encoder(n_features=in_dim, embedding_dim=in_dim,device=device)\n",
    "encoder=nn.DataParallel(encoder)\n",
    "encoder.to(device)\n",
    "state_dict = torch.load(PATH_encoder)\n",
    "encoder=improvisedGAN.load_model(state_dict,encoder)"
   ]
  },
  {
   "cell_type": "code",
   "execution_count": 22,
   "id": "e432d2b6-0db1-440d-93be-2af5380e278b",
   "metadata": {},
   "outputs": [],
   "source": [
    "decoder=Decoder(in_dim=in_dim,out_dim=in_dim,device=device)\n",
    "decoder=nn.DataParallel(decoder)\n",
    "decoder.to(device)\n",
    "state_dict = torch.load(PATH_decoder)\n",
    "decoder=improvisedGAN.load_model(state_dict,decoder)"
   ]
  },
  {
   "cell_type": "markdown",
   "id": "77068d3d-368f-4eee-8965-49cc34a2b197",
   "metadata": {},
   "source": [
    "<h4>Loading back saved models</h4>"
   ]
  },
  {
   "cell_type": "code",
   "execution_count": 23,
   "id": "6cefa0f9-dad7-4f91-ae15-38a17da50767",
   "metadata": {},
   "outputs": [],
   "source": [
    "improvisedGAN.initialize_models(criticX,criticZ,decoder,encoder)"
   ]
  },
  {
   "cell_type": "markdown",
   "id": "76f64ec1-2dcd-4bed-a759-09e969745120",
   "metadata": {},
   "source": [
    "<h2>Testing for anomaly</h2>"
   ]
  },
  {
   "cell_type": "code",
   "execution_count": 24,
   "id": "5957b56f-d35a-4035-91a1-e74474880bb5",
   "metadata": {},
   "outputs": [],
   "source": [
    "\n",
    "class ArgsTest:\n",
    "    workers = 1\n",
    "    batch_size = 1\n",
    "    \n",
    "opt_test=ArgsTest()\n",
    "\n",
    "class TestDataSettings:\n",
    "    \n",
    "    def __init__(self):\n",
    "        end_name='exchange-2_cpc_results.csv'\n",
    "        self.data_folder_path = Path.cwd().joinpath(\"data\", \"nab\")\n",
    "        key='realAdExchange/'+end_name \n",
    "        self.label_file = './lables/combined_windows.json'\n",
    "        self.key=key\n",
    "        self.train=False\n",
    "        self.window_length=60       \n",
    "        \n",
    "test_data_settings = TestDataSettings()"
   ]
  },
  {
   "cell_type": "code",
   "execution_count": 25,
   "id": "87e905fc-83c2-498e-b0e7-f35424e992dd",
   "metadata": {},
   "outputs": [
    {
     "name": "stdout",
     "output_type": "stream",
     "text": [
      "data_folder_path /Users/ss049a/gitWorkspace/ImprovisedGAN/data/nab\n"
     ]
    },
    {
     "name": "stderr",
     "output_type": "stream",
     "text": [
      "/Users/ss049a/gitWorkspace/ImprovisedGAN/.venv/lib/python3.12/site-packages/threadpoolctl.py:1214: RuntimeWarning: \n",
      "Found Intel OpenMP ('libiomp') and LLVM OpenMP ('libomp') loaded at\n",
      "the same time. Both libraries are known to be incompatible and this\n",
      "can cause random crashes or deadlocks on Linux when loaded in the\n",
      "same Python program.\n",
      "Using threadpoolctl may cause crashes or deadlocks. For more\n",
      "information and possible workarounds, please see\n",
      "    https://github.com/joblib/threadpoolctl/blob/master/multiple_openmp.md\n",
      "\n",
      "  warnings.warn(msg, RuntimeWarning)\n"
     ]
    }
   ],
   "source": [
    "# define dataset object and data loader object in evaluation mood for NAB dataset\n",
    "\n",
    "test_dataset = NabDataset(test_data_settings)\n",
    "test_dataloader = torch.utils.data.DataLoader(test_dataset, batch_size=opt_test.batch_size, \n",
    "                                         shuffle=False, num_workers=int(opt_test.workers))\n",
    "\n",
    "test_dataset.x.shape, test_dataset.y.shape, test_dataset.data_len # check the dataset shape\n",
    "test_sequences=[x for i, (x,y) in enumerate(test_dataloader, 0)]"
   ]
  },
  {
   "cell_type": "code",
   "execution_count": 26,
   "id": "37f48d23-9a05-4b1d-998a-578f058ee1cc",
   "metadata": {},
   "outputs": [],
   "source": [
    "losses=improvisedGAN.predict_loss(test_sequences)"
   ]
  },
  {
   "cell_type": "code",
   "execution_count": 27,
   "id": "52a25647-31c2-4b62-9a24-2d77e98f1542",
   "metadata": {},
   "outputs": [],
   "source": [
    "import matplotlib.pyplot as plt\n",
    "import seaborn as sns"
   ]
  },
  {
   "cell_type": "code",
   "execution_count": 28,
   "id": "05196b97-6cbc-415b-bc35-c049d9fdb847",
   "metadata": {},
   "outputs": [
    {
     "data": {
      "image/png": "[encoded data removed]",
      "text/plain": [
       "<Figure size 1280x720 with 1 Axes>"
      ]
     },
     "metadata": {},
     "output_type": "display_data"
    }
   ],
   "source": [
    "plt.figure(figsize=(16,9), dpi=80)\n",
    "plt.title('Loss Distribution', fontsize=16)\n",
    "sns.histplot(losses, bins = 20, kde= False, color = 'blue');\n",
    "#sns.distplot(losses, bins = 20, kde= True, color = 'blue');"
   ]
  },
  {
   "cell_type": "code",
   "execution_count": 29,
   "id": "fe8f9d67-1500-4271-9292-fc7da5fc5cf5",
   "metadata": {},
   "outputs": [
    {
     "data": {
      "image/png": "[encoded data removed]",
      "text/plain": [
       "<Figure size 640x480 with 1 Axes>"
      ]
     },
     "metadata": {},
     "output_type": "display_data"
    }
   ],
   "source": [
    "THRESHOLD =0.58\n",
    "\n",
    "test_score_df = pd.DataFrame(index=range(len(losses)))\n",
    "test_score_df['loss'] = [loss/60 for loss in losses]\n",
    "test_score_df['y'] = test_dataset.y\n",
    "test_score_df['threshold'] = THRESHOLD\n",
    "test_score_df['anomaly'] = test_score_df.loss > test_score_df.threshold\n",
    "test_score_df['t'] = [x[59].item() for x in test_dataset.x]\n",
    "\n",
    "plt.plot( test_score_df.loss, label='loss')\n",
    "plt.plot( test_score_df.threshold, label='threshold')\n",
    "#plt.plot( test_score_df.y, label='y')\n",
    "plt.xticks(rotation=25)\n",
    "plt.legend();\n"
   ]
  },
  {
   "cell_type": "code",
   "execution_count": 30,
   "id": "6c196191-2308-4fea-ad91-13dcf1408285",
   "metadata": {},
   "outputs": [],
   "source": [
    "import numpy as np\n",
    "actual,predicted=improve_detection(test_score_df)"
   ]
  },
  {
   "cell_type": "code",
   "execution_count": 31,
   "id": "2062fbc6-09fe-4581-840c-5434bb147a22",
   "metadata": {},
   "outputs": [
    {
     "name": "stdout",
     "output_type": "stream",
     "text": [
      "True Positive\t 0\n",
      "True Negative\t 283\n",
      "False Positive\t 6\n",
      "False Negative\t 3\n"
     ]
    },
    {
     "ename": "ZeroDivisionError",
     "evalue": "float division by zero",
     "output_type": "error",
     "traceback": [
      "\u001b[0;31m---------------------------------------------------------------------------\u001b[0m",
      "\u001b[0;31mZeroDivisionError\u001b[0m                         Traceback (most recent call last)",
      "Cell \u001b[0;32mIn[31], line 7\u001b[0m\n\u001b[1;32m      4\u001b[0m predicted \u001b[38;5;241m=\u001b[39m np\u001b[38;5;241m.\u001b[39marray(predicted)\n\u001b[1;32m      5\u001b[0m actual \u001b[38;5;241m=\u001b[39m np\u001b[38;5;241m.\u001b[39marray(actual)\n\u001b[0;32m----> 7\u001b[0m \u001b[43mprint_scores\u001b[49m\u001b[43m(\u001b[49m\u001b[43mpredicted\u001b[49m\u001b[43m,\u001b[49m\u001b[43mactual\u001b[49m\u001b[43m)\u001b[49m\n",
      "File \u001b[0;32m~/gitWorkspace/ImprovisedGAN/src/utils/util.py:45\u001b[0m, in \u001b[0;36mprint_scores\u001b[0;34m(predicted, actual)\u001b[0m\n\u001b[1;32m     43\u001b[0m precision \u001b[38;5;241m=\u001b[39m tp \u001b[38;5;241m/\u001b[39m (tp \u001b[38;5;241m+\u001b[39m fp)\n\u001b[1;32m     44\u001b[0m recall \u001b[38;5;241m=\u001b[39m tp \u001b[38;5;241m/\u001b[39m (tp \u001b[38;5;241m+\u001b[39m fn)\n\u001b[0;32m---> 45\u001b[0m fmeasure \u001b[38;5;241m=\u001b[39m \u001b[43m(\u001b[49m\u001b[38;5;241;43m2\u001b[39;49m\u001b[43m \u001b[49m\u001b[38;5;241;43m*\u001b[39;49m\u001b[43m \u001b[49m\u001b[43mprecision\u001b[49m\u001b[43m \u001b[49m\u001b[38;5;241;43m*\u001b[39;49m\u001b[43m \u001b[49m\u001b[43mrecall\u001b[49m\u001b[43m)\u001b[49m\u001b[43m \u001b[49m\u001b[38;5;241;43m/\u001b[39;49m\u001b[43m \u001b[49m\u001b[43m(\u001b[49m\u001b[43mprecision\u001b[49m\u001b[43m \u001b[49m\u001b[38;5;241;43m+\u001b[39;49m\u001b[43m \u001b[49m\u001b[43mrecall\u001b[49m\u001b[43m)\u001b[49m\n\u001b[1;32m     46\u001b[0m cohen_k_score \u001b[38;5;241m=\u001b[39m cohen_kappa_score(predicted, actual)\n\u001b[1;32m     47\u001b[0m false_positive_rate, true_positive_rate, thresholds \u001b[38;5;241m=\u001b[39m roc_curve(actual, predicted)\n",
      "\u001b[0;31mZeroDivisionError\u001b[0m: float division by zero"
     ]
    }
   ],
   "source": [
    "\n",
    "from sklearn.metrics import cohen_kappa_score\n",
    "from sklearn.metrics import roc_curve, auc, roc_auc_score\n",
    "\n",
    "predicted = np.array(predicted)\n",
    "actual = np.array(actual)\n",
    "\n",
    "print_scores(predicted,actual)"
   ]
  },
  {
   "cell_type": "code",
   "execution_count": null,
   "id": "f3202243-ab69-4613-940a-f21332dbc81b",
   "metadata": {},
   "outputs": [],
   "source": []
  },
  {
   "cell_type": "code",
   "execution_count": null,
   "id": "6ae33db9-fecd-4374-95fd-1876475825f3",
   "metadata": {},
   "outputs": [],
   "source": []
  }
 ],
 "metadata": {
  "kernelspec": {
   "display_name": "Python 3 (ipykernel)",
   "language": "python",
   "name": "python3"
  },
  "language_info": {
   "codemirror_mode": {
    "name": "ipython",
    "version": 3
   },
   "file_extension": ".py",
   "mimetype": "text/x-python",
   "name": "python",
   "nbconvert_exporter": "python",
   "pygments_lexer": "ipython3",
   "version": "3.12.4"
  }
 },
 "nbformat": 4,
 "nbformat_minor": 5
}
