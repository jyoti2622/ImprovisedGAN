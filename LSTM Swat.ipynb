{
 "cells": [
  {
   "cell_type": "code",
   "execution_count": 1,
   "id": "f99a1d39-2331-4429-a40d-f6f73543d867",
   "metadata": {},
   "outputs": [],
   "source": [
    "import torch\n",
    "import torch.nn as nn \n",
    "import pandas as pd\n",
    "import numpy as np\n",
    "import time\n",
    "import torch.backends.cudnn as cudnn\n",
    "from torch.autograd import Variable\n",
    "import datetime\n",
    "from sklearn.impute import SimpleImputer\n",
    "from sklearn.decomposition import PCA"
   ]
  },
  {
   "cell_type": "code",
   "execution_count": 2,
   "id": "fb0a5026-e85d-4d8e-8c39-efd18303dcd4",
   "metadata": {},
   "outputs": [],
   "source": [
    "from src.algorithms.LSTMAutoencoder import LSTMAutoencoderAlgo\n",
    "from src.utils.util import *\n",
    "from src.dataset.swat import SwatDataset\n",
    "from src.model.modelLSTM import Encoder,Decoder,LSTMAutoencoder"
   ]
  },
  {
   "cell_type": "code",
   "execution_count": 3,
   "id": "bbec0647-b2ba-4683-92eb-ccbffbb0306b",
   "metadata": {},
   "outputs": [
    {
     "name": "stdout",
     "output_type": "stream",
     "text": [
      "03:04:41\n"
     ]
    }
   ],
   "source": [
    "#This is the beginning of programm\n",
    "t = time.localtime()\n",
    "current_time = time.strftime(\"%H:%M:%S\", t)\n",
    "print(current_time)\n",
    "    "
   ]
  },
  {
   "cell_type": "markdown",
   "id": "fcb85f7c-7502-4b00-87d2-0cda405ff6cc",
   "metadata": {},
   "source": [
    "<h4>Initializing Dataset</h4>"
   ]
  },
  {
   "cell_type": "code",
   "execution_count": 4,
   "id": "aad343c7-0a2e-4562-bbd9-c3d2107cd642",
   "metadata": {},
   "outputs": [],
   "source": [
    "seed=0\n",
    "swat = SwatDataset(seed)"
   ]
  },
  {
   "cell_type": "code",
   "execution_count": 5,
   "id": "1a67de2d-4cd2-4805-b35e-d0d24d31a500",
   "metadata": {},
   "outputs": [
    {
     "name": "stderr",
     "output_type": "stream",
     "text": [
      "/home/jupyter/GRANOGAN-IISC/src/dataset/swat.py:142: DtypeWarning: Columns (1,2,3,4,5,6,7,8,9,10,11,12,13,14,15,16,17,18,19,20,21,22,23,24,25,26,27,28,29,30,31,32,33,34,35,36,37,38,39,40,41,42,43,44,45,46,47,48,49,50,51) have mixed types. Specify dtype option on import or set low_memory=False.\n",
      "  test_df: pd.DataFrame = pd.read_csv(self.raw_path_test)\n",
      "/home/jupyter/GRANOGAN-IISC/src/dataset/swat.py:143: DtypeWarning: Columns (1,2,3,4,5,6,7,8,9,10,11,12,13,14,15,16,17,18,19,20,21,22,23,24,25,26,27,28,29,30,31,32,33,34,35,36,37,38,39,40,41,42,43,44,45,46,47,48,49,50,51) have mixed types. Specify dtype option on import or set low_memory=False.\n",
      "  train_df: pd.DataFrame = pd.read_csv(self.raw_path_train)\n"
     ]
    },
    {
     "name": "stdout",
     "output_type": "stream",
     "text": [
      "Total Number of anomalies in train set = 0\n",
      "Total Number of anomalies in test set = 19271\n",
      "% of anomalies in the test set = 4.6484421169937935\n",
      "number of anomalous events = 35\n"
     ]
    }
   ],
   "source": [
    "x_train, y_train, x_test, y_test = swat.data()"
   ]
  },
  {
   "cell_type": "code",
   "execution_count": 7,
   "id": "97407873-8c2d-43f4-a2bb-ac1f6cb3ec16",
   "metadata": {},
   "outputs": [],
   "source": [
    "imputer = SimpleImputer(missing_values=np.nan, strategy='mean')\n",
    "imputer = imputer.fit(x_train)\n",
    "x_train = imputer.transform(x_train)"
   ]
  },
  {
   "cell_type": "code",
   "execution_count": 8,
   "id": "45ab35de-8cdc-410e-aaec-6fe3cec63da6",
   "metadata": {},
   "outputs": [],
   "source": [
    "reduced_dimesnion=3\n",
    "pca = PCA(n_components=reduced_dimesnion, svd_solver='full')\n",
    "pca.fit(x_train)\n",
    "x_train=pca.transform(x_train)"
   ]
  },
  {
   "cell_type": "code",
   "execution_count": 9,
   "id": "be86c10c-1dbe-4add-823c-bf87ee2cb053",
   "metadata": {},
   "outputs": [],
   "source": [
    "pca = PCA(n_components=reduced_dimesnion, svd_solver='full')\n",
    "pca.fit(x_test)\n",
    "x_test=pca.transform(x_test)"
   ]
  },
  {
   "cell_type": "code",
   "execution_count": 6,
   "id": "ced9a252-002a-4f88-b462-8c0d4fb0ef39",
   "metadata": {},
   "outputs": [],
   "source": [
    "sequences,y_train_per_window = get_sub_seqs(x_train,y_train, seq_len=60, stride=1,\n",
    "                                 start_discont=np.array([]))"
   ]
  },
  {
   "cell_type": "code",
   "execution_count": 7,
   "id": "b0c01245-2fee-44d6-99f0-4d58a2b58f63",
   "metadata": {},
   "outputs": [],
   "source": [
    "train_loader, train_val_loader = get_train_data_loaders(sequences, batch_size=32,\n",
    "                                                                splits=[1 - 0.2,\n",
    "                                                                        0.2], seed=0)"
   ]
  },
  {
   "cell_type": "code",
   "execution_count": 8,
   "id": "be7223d1-bc7c-4f1e-95ad-fc89cc7250b5",
   "metadata": {},
   "outputs": [],
   "source": [
    "reduced_dimesnion=51\n",
    "window_length=60\n",
    "device = torch.device(\"cuda\" if torch.cuda.is_available() else \"cpu\")\n",
    "seq_len = window_length # sequence length is equal to the window length\n",
    "in_dim = reduced_dimesnion # input dimension is same as number of feature\n",
    "n_features=reduced_dimesnion"
   ]
  },
  {
   "cell_type": "code",
   "execution_count": 9,
   "id": "6ed3bf31-278e-4dde-9213-8b078968f371",
   "metadata": {},
   "outputs": [
    {
     "data": {
      "text/plain": [
       "<torch._C.Generator at 0x7f853c3c5f90>"
      ]
     },
     "execution_count": 9,
     "metadata": {},
     "output_type": "execute_result"
    }
   ],
   "source": [
    "class ArgsTrn:\n",
    "    workers=4\n",
    "    batch_size=32\n",
    "    epochs=5\n",
    "    lr=0.0002\n",
    "    cuda = True\n",
    "    manualSeed=2\n",
    "    mean=0\n",
    "    std=0.1\n",
    "    \n",
    "opt_trn=ArgsTrn()\n",
    "torch.manual_seed(opt_trn.manualSeed)"
   ]
  },
  {
   "cell_type": "code",
   "execution_count": 10,
   "id": "7b602810-6f26-4c0b-b6c0-df32d9e149b5",
   "metadata": {},
   "outputs": [],
   "source": [
    "embedding_dim=16\n",
    "lstmAutoencoderAlgo=LSTMAutoencoderAlgo(device=device,opt_trn=opt_trn,windows_length=seq_len,n_features=n_features,embedding_dim=embedding_dim)"
   ]
  },
  {
   "cell_type": "code",
   "execution_count": 11,
   "id": "f3f85a3d-88df-4ff8-b9c8-723de402608c",
   "metadata": {},
   "outputs": [
    {
     "name": "stdout",
     "output_type": "stream",
     "text": [
      "Epoch 0: train loss 0.03582974355471766\n",
      "Epoch 1: train loss 0.010329973166661156\n",
      "Epoch 2: train loss 0.0047938206177680145\n",
      "Epoch 3: train loss 0.00409943464736092\n",
      "Epoch 4: train loss 0.00427888606334341\n"
     ]
    }
   ],
   "source": [
    "trained_autoencoder=lstmAutoencoderAlgo.train_autoencoder(train_loader)"
   ]
  },
  {
   "cell_type": "code",
   "execution_count": 12,
   "id": "5aa7dc6d-1a7b-475c-9513-2e5cacb1a7bf",
   "metadata": {},
   "outputs": [],
   "source": [
    "PATH='/home/jupyter/GRANOGAN-IISC/src/saved_models/LSTMAutoencoder/swat/autoencoder.pkl'"
   ]
  },
  {
   "cell_type": "code",
   "execution_count": 13,
   "id": "b5ee1fac-c744-49cc-b9aa-e9ac214ccb08",
   "metadata": {},
   "outputs": [],
   "source": [
    "torch.save(trained_autoencoder.module.state_dict(), PATH)"
   ]
  },
  {
   "cell_type": "code",
   "execution_count": 14,
   "id": "a61bc36e-552d-4232-a07b-43644b20c0a3",
   "metadata": {},
   "outputs": [],
   "source": [
    "state_dict = torch.load(PATH)\n",
    "trained_autoencoder=LSTMAutoencoder(embedding_dim, n_features,device=device)\n",
    "trained_autoencoder=nn.DataParallel(trained_autoencoder)\n",
    "trained_autoencoder.to(device)\n",
    "trained_autoencoder=lstmAutoencoderAlgo.load_model(state_dict,trained_autoencoder)"
   ]
  },
  {
   "cell_type": "markdown",
   "id": "1d1c8470-b3a9-4434-8ba4-90a0a6ac317b",
   "metadata": {},
   "source": [
    "<h4>Loading back the saved models</h4>"
   ]
  },
  {
   "cell_type": "code",
   "execution_count": 15,
   "id": "7ad8287a-dca5-4f4f-bcad-03f5f9180a0c",
   "metadata": {},
   "outputs": [],
   "source": [
    "lstmAutoencoderAlgo.intialize_lstmautoencoder(trained_autoencoder)"
   ]
  },
  {
   "cell_type": "markdown",
   "id": "2e485d0a-c49c-42b6-8f06-bf2147a226da",
   "metadata": {},
   "source": [
    "<h2>Testing for anomaly</h2>\n"
   ]
  },
  {
   "cell_type": "code",
   "execution_count": 16,
   "id": "57aace7b-07a5-468d-a4cf-cda5610370db",
   "metadata": {},
   "outputs": [],
   "source": [
    "sequences,y_test_per_window = get_sub_seqs(x_test,y_test, seq_len=60, stride=60, start_discont=np.array([]))\n",
    "test_loader = DataLoader(dataset=sequences, batch_size=1,  num_workers=4,\n",
    "                                 shuffle=False)"
   ]
  },
  {
   "cell_type": "code",
   "execution_count": 17,
   "id": "1ba90f95-4fc2-4385-8435-31cfdd1bf111",
   "metadata": {},
   "outputs": [],
   "source": [
    "losses=lstmAutoencoderAlgo.predict_loss(test_loader)"
   ]
  },
  {
   "cell_type": "code",
   "execution_count": 18,
   "id": "cfe43389-3cac-4ccd-ad2e-3ee543788159",
   "metadata": {},
   "outputs": [],
   "source": [
    "import matplotlib.pyplot as plt\n",
    "import seaborn as sns"
   ]
  },
  {
   "cell_type": "code",
   "execution_count": 19,
   "id": "05e54ee1-4228-40ac-91d0-84d8554af965",
   "metadata": {},
   "outputs": [
    {
     "data": {
      "image/png": "[encoded data removed]",
      "text/plain": [
       "<Figure size 1280x720 with 1 Axes>"
      ]
     },
     "metadata": {
      "needs_background": "light"
     },
     "output_type": "display_data"
    }
   ],
   "source": [
    "plt.figure(figsize=(16,9), dpi=80)\n",
    "plt.title('Loss Distribution', fontsize=16)\n",
    "sns.histplot(losses, bins = 20, kde= False, color = 'blue');\n",
    "#sns.distplot(losses, bins = 20, kde= True, color = 'blue');"
   ]
  },
  {
   "cell_type": "code",
   "execution_count": 74,
   "id": "67d6f846-5acc-46ed-8595-a7e665c53628",
   "metadata": {},
   "outputs": [
    {
     "data": {
      "image/png": "[encoded data removed]",
      "text/plain": [
       "<Figure size 432x288 with 1 Axes>"
      ]
     },
     "metadata": {
      "needs_background": "light"
     },
     "output_type": "display_data"
    }
   ],
   "source": [
    "THRESHOLD =0.4\n",
    "\n",
    "\n",
    "test_score_df = pd.DataFrame(index=range(len(losses)))\n",
    "test_score_df['loss'] = [loss for loss in losses]\n",
    "test_score_df['y'] = y_test_per_window\n",
    "test_score_df['threshold'] = THRESHOLD\n",
    "test_score_df['anomaly'] = test_score_df.loss > test_score_df.threshold\n",
    "#test_score_df['t'] = [x[59].item() for x in sequences]\n",
    "\n",
    "plt.plot( test_score_df.loss, label='loss')\n",
    "plt.plot( test_score_df.threshold, label='threshold')\n",
    "plt.plot( test_score_df.y, label='y')\n",
    "plt.xticks(rotation=25)\n",
    "plt.legend();"
   ]
  },
  {
   "cell_type": "code",
   "execution_count": 80,
   "id": "91fb689a-05dc-45fa-99c0-11e1d7331e0b",
   "metadata": {},
   "outputs": [
    {
     "data": {
      "image/png": "[encoded data removed]",
      "text/plain": [
       "<Figure size 432x288 with 1 Axes>"
      ]
     },
     "metadata": {
      "needs_background": "light"
     },
     "output_type": "display_data"
    }
   ],
   "source": [
    "diff = list()\n",
    "for i in range(0, len(losses)):\n",
    "    value = losses[i]/60 - losses[i - 1]/60\n",
    "    diff.append(value*1000)\n",
    "plt.plot(diff)\n",
    "plt.show()"
   ]
  },
  {
   "cell_type": "code",
   "execution_count": 114,
   "id": "167150df-3272-4230-9d61-eedd663f1695",
   "metadata": {},
   "outputs": [
    {
     "data": {
      "image/png": "[encoded data removed]",
      "text/plain": [
       "<Figure size 432x288 with 1 Axes>"
      ]
     },
     "metadata": {
      "needs_background": "light"
     },
     "output_type": "display_data"
    }
   ],
   "source": [
    "THRESHOLD =0.65\n",
    "\n",
    "test_score_df = pd.DataFrame(index=range(len(diff)))\n",
    "test_score_df['loss'] = [loss for loss in diff]\n",
    "test_score_df['y'] = y_test_per_window\n",
    "test_score_df['threshold'] = THRESHOLD\n",
    "test_score_df['anomaly'] = test_score_df.loss > test_score_df.threshold\n",
    "#test_score_df['t'] = [x[59].item() for x in sequences]\n",
    "\n",
    "plt.plot( test_score_df.loss, label='loss')\n",
    "plt.plot( test_score_df.threshold, label='threshold')\n",
    "plt.plot( test_score_df.y, label='y')\n",
    "plt.xticks(rotation=25)\n",
    "plt.legend();"
   ]
  },
  {
   "cell_type": "code",
   "execution_count": 115,
   "id": "ab3f5ead-6023-4b5d-b149-6d845440dc90",
   "metadata": {},
   "outputs": [],
   "source": [
    "import numpy as np\n",
    "actual,predicted=improve_detection(test_score_df)"
   ]
  },
  {
   "cell_type": "code",
   "execution_count": 116,
   "id": "0b1822cc-baef-419b-b89e-17ac471ebaf2",
   "metadata": {},
   "outputs": [
    {
     "name": "stdout",
     "output_type": "stream",
     "text": [
      "True Positive\t 115\n",
      "True Negative\t 6521\n",
      "False Positive\t 31\n",
      "False Negative\t 242\n",
      "Accuracy\t 0.9604863221884499\n",
      "Precision\t 0.7876712328767124\n",
      "Recall\t 0.32212885154061627\n",
      "f-measure\t 0.4572564612326044\n",
      "cohen_kappa_score\t 0.4404727048460345\n",
      "auc\t 0.6586987359046182\n",
      "roc_auc\t 0.6586987359046182\n"
     ]
    }
   ],
   "source": [
    "\n",
    "from sklearn.metrics import cohen_kappa_score\n",
    "from sklearn.metrics import roc_curve, auc, roc_auc_score\n",
    "\n",
    "predicted = np.array(predicted)\n",
    "actual = np.array(actual)\n",
    "\n",
    "print_scores(predicted,actual)"
   ]
  },
  {
   "cell_type": "code",
   "execution_count": null,
   "id": "cdb06d5a-a416-45bc-9266-87c017815693",
   "metadata": {},
   "outputs": [],
   "source": []
  },
  {
   "cell_type": "code",
   "execution_count": null,
   "id": "0aa3066c-3bb3-4909-a71f-4f893a34f8f3",
   "metadata": {},
   "outputs": [],
   "source": []
  }
 ],
 "metadata": {
  "kernelspec": {
   "display_name": "Python 3 (ipykernel)",
   "language": "python",
   "name": "python3"
  },
  "language_info": {
   "codemirror_mode": {
    "name": "ipython",
    "version": 3
   },
   "file_extension": ".py",
   "mimetype": "text/x-python",
   "name": "python",
   "nbconvert_exporter": "python",
   "pygments_lexer": "ipython3",
   "version": "3.11.6"
  }
 },
 "nbformat": 4,
 "nbformat_minor": 5
}
