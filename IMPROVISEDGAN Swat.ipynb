{
 "cells": [
  {
   "cell_type": "code",
   "execution_count": 6,
   "id": "842a0156-e4f2-485c-b4ee-dcf741ad6196",
   "metadata": {},
   "outputs": [
    {
     "ename": "ModuleNotFoundError",
     "evalue": "No module named 'sklearn'",
     "output_type": "error",
     "traceback": [
      "\u001b[0;31m---------------------------------------------------------------------------\u001b[0m",
      "\u001b[0;31mModuleNotFoundError\u001b[0m                       Traceback (most recent call last)",
      "Cell \u001b[0;32mIn[6], line 9\u001b[0m\n\u001b[1;32m      7\u001b[0m \u001b[38;5;28;01mfrom\u001b[39;00m \u001b[38;5;21;01mtorch\u001b[39;00m\u001b[38;5;21;01m.\u001b[39;00m\u001b[38;5;21;01mautograd\u001b[39;00m \u001b[38;5;28;01mimport\u001b[39;00m Variable\n\u001b[1;32m      8\u001b[0m \u001b[38;5;28;01mimport\u001b[39;00m \u001b[38;5;21;01mdatetime\u001b[39;00m\n\u001b[0;32m----> 9\u001b[0m \u001b[38;5;28;01mfrom\u001b[39;00m \u001b[38;5;21;01msklearn\u001b[39;00m\u001b[38;5;21;01m.\u001b[39;00m\u001b[38;5;21;01mimpute\u001b[39;00m \u001b[38;5;28;01mimport\u001b[39;00m SimpleImputer\n\u001b[1;32m     10\u001b[0m \u001b[38;5;28;01mfrom\u001b[39;00m \u001b[38;5;21;01msklearn\u001b[39;00m\u001b[38;5;21;01m.\u001b[39;00m\u001b[38;5;21;01mdecomposition\u001b[39;00m \u001b[38;5;28;01mimport\u001b[39;00m PCA\n",
      "\u001b[0;31mModuleNotFoundError\u001b[0m: No module named 'sklearn'"
     ]
    }
   ],
   "source": [
    "import torch\n",
    "import torch.nn as nn \n",
    "import pandas as pd\n",
    "import numpy as np\n",
    "import time\n",
    "import torch.backends.cudnn as cudnn\n",
    "from torch.autograd import Variable\n",
    "import datetime\n",
    "from sklearn.impute import SimpleImputer\n",
    "from sklearn.decomposition import PCA"
   ]
  },
  {
   "cell_type": "code",
   "execution_count": 2,
   "id": "647f9261-52f2-4277-b601-1a534d3b56ed",
   "metadata": {},
   "outputs": [],
   "source": [
    "from src.model.modelGranoGan import Encoder,Decoder,Critic\n",
    "from src.utils.losses import Wasserstein\n",
    "from src.utils.util import *\n",
    "from src.dataset.swat import SwatDataset\n",
    "from src.algorithms.GranoGAN import GranoGAN"
   ]
  },
  {
   "cell_type": "code",
   "execution_count": 3,
   "id": "e58a5271-91b2-4ea8-80ab-343ad452bb01",
   "metadata": {},
   "outputs": [
    {
     "name": "stdout",
     "output_type": "stream",
     "text": [
      "01:48:07\n"
     ]
    }
   ],
   "source": [
    "#This is the beginning of programm\n",
    "t = time.localtime()\n",
    "current_time = time.strftime(\"%H:%M:%S\", t)\n",
    "print(current_time)\n",
    "    "
   ]
  },
  {
   "cell_type": "code",
   "execution_count": 4,
   "id": "38a26cb6-b1e7-4ff2-8ea4-48768c3b4d33",
   "metadata": {},
   "outputs": [],
   "source": [
    "seed=0\n",
    "swat = SwatDataset(seed)"
   ]
  },
  {
   "cell_type": "code",
   "execution_count": 5,
   "id": "148d1188-975c-4a68-be20-cdda6e1e5f3f",
   "metadata": {},
   "outputs": [
    {
     "name": "stderr",
     "output_type": "stream",
     "text": [
      "/home/jupyter/GRANOGAN-IISC/src/dataset/swat.py:142: DtypeWarning: Columns (1,2,3,4,5,6,7,8,9,10,11,12,13,14,15,16,17,18,19,20,21,22,23,24,25,26,27,28,29,30,31,32,33,34,35,36,37,38,39,40,41,42,43,44,45,46,47,48,49,50,51) have mixed types. Specify dtype option on import or set low_memory=False.\n",
      "  test_df: pd.DataFrame = pd.read_csv(self.raw_path_test)\n",
      "/home/jupyter/GRANOGAN-IISC/src/dataset/swat.py:143: DtypeWarning: Columns (1,2,3,4,5,6,7,8,9,10,11,12,13,14,15,16,17,18,19,20,21,22,23,24,25,26,27,28,29,30,31,32,33,34,35,36,37,38,39,40,41,42,43,44,45,46,47,48,49,50,51) have mixed types. Specify dtype option on import or set low_memory=False.\n",
      "  train_df: pd.DataFrame = pd.read_csv(self.raw_path_train)\n"
     ]
    },
    {
     "name": "stdout",
     "output_type": "stream",
     "text": [
      "Total Number of anomalies in train set = 0\n",
      "Total Number of anomalies in test set = 19271\n",
      "% of anomalies in the test set = 4.6484421169937935\n",
      "number of anomalous events = 35\n"
     ]
    }
   ],
   "source": [
    "x_train, y_train, x_test, y_test = swat.data()"
   ]
  },
  {
   "cell_type": "code",
   "execution_count": 6,
   "id": "d4ba2b8d-fbf9-4866-957a-80aae99de6a3",
   "metadata": {},
   "outputs": [
    {
     "name": "stdout",
     "output_type": "stream",
     "text": [
      "(495000, 51)\n"
     ]
    }
   ],
   "source": [
    "print(x_train.shape)"
   ]
  },
  {
   "cell_type": "code",
   "execution_count": 23,
   "id": "883f8641-9eb4-4eb6-8063-a44aca33bac7",
   "metadata": {},
   "outputs": [],
   "source": [
    "imputer = SimpleImputer(missing_values=np.nan, strategy='mean')\n",
    "imputer = imputer.fit(x_train)\n",
    "x_train = imputer.transform(x_train)"
   ]
  },
  {
   "cell_type": "code",
   "execution_count": 24,
   "id": "d100f115-49ea-4a78-9170-e3c54193003b",
   "metadata": {},
   "outputs": [],
   "source": [
    "reduced_dimesnion=3\n",
    "pca = PCA(n_components=reduced_dimesnion, svd_solver='full')\n",
    "pca.fit(x_train)\n",
    "x_train=pca.transform(x_train)"
   ]
  },
  {
   "cell_type": "code",
   "execution_count": 25,
   "id": "34b9d06b-6ce9-434b-b20e-6c5ad0646ec2",
   "metadata": {},
   "outputs": [],
   "source": [
    "pca = PCA(n_components=reduced_dimesnion, svd_solver='full')\n",
    "pca.fit(x_test)\n",
    "x_test=pca.transform(x_test)"
   ]
  },
  {
   "cell_type": "code",
   "execution_count": 7,
   "id": "0afd809f-644f-4993-b4bd-ec22ce8fdfd6",
   "metadata": {},
   "outputs": [],
   "source": [
    "sequences,y_train_per_window = get_sub_seqs(x_train,y_train, seq_len=60, stride=1,\n",
    "                                 start_discont=np.array([]))"
   ]
  },
  {
   "cell_type": "code",
   "execution_count": 8,
   "id": "85f269a6-06b9-4798-88f3-3d64e20a34bd",
   "metadata": {},
   "outputs": [],
   "source": [
    "train_loader, train_val_loader = get_train_data_loaders(sequences, batch_size=32,\n",
    "                                                                splits=[1 - 0.2,\n",
    "                                                                        0.2], seed=0)"
   ]
  },
  {
   "cell_type": "code",
   "execution_count": 9,
   "id": "3eb0bf13-46d4-44b8-bddf-62a91e717482",
   "metadata": {},
   "outputs": [],
   "source": [
    "reduced_dimesnion=51\n",
    "window_length=60\n",
    "device = torch.device(\"cuda\" if torch.cuda.is_available() else \"cpu\")\n",
    "seq_len = window_length # sequence length is equal to the window length\n",
    "in_dim = reduced_dimesnion # input dimension is same as number of feature\n",
    "n_features=reduced_dimesnion"
   ]
  },
  {
   "cell_type": "code",
   "execution_count": 10,
   "id": "0fbac0cf-895f-413f-b728-5a2cffa3e593",
   "metadata": {},
   "outputs": [
    {
     "data": {
      "text/plain": [
       "<torch._C.Generator at 0x7f87c0374f90>"
      ]
     },
     "execution_count": 10,
     "metadata": {},
     "output_type": "execute_result"
    }
   ],
   "source": [
    "class ArgsTrn:\n",
    "    workers=4\n",
    "    batch_size=32\n",
    "    epochs=5\n",
    "    lr=0.0002\n",
    "    cuda = True\n",
    "    manualSeed=2\n",
    "    mean=0\n",
    "    std=0.1\n",
    "    \n",
    "opt_trn=ArgsTrn()\n",
    "torch.manual_seed(opt_trn.manualSeed)"
   ]
  },
  {
   "cell_type": "code",
   "execution_count": 11,
   "id": "68d7a260-40c7-440b-bbbf-60ade37dcc12",
   "metadata": {},
   "outputs": [],
   "source": [
    "granoGAN=GranoGAN(device=device,opt_trn=opt_trn,windows_length=seq_len,n_features=n_features,in_dim=in_dim)"
   ]
  },
  {
   "cell_type": "code",
   "execution_count": null,
   "id": "bf507335-6307-418d-81d1-83af8978b896",
   "metadata": {},
   "outputs": [
    {
     "name": "stderr",
     "output_type": "stream",
     "text": [
      "/home/jupyter/GRANOGAN-IISC/src/algorithms/GranoGAN.py:110: UserWarning: nn.init.normal is now deprecated in favor of nn.init.normal_.\n",
      "  noise = Variable(init.normal(torch.Tensor(batch_size,seq_len,self.in_dim),mean=self.mean,std=self.std))\n"
     ]
    },
    {
     "name": "stdout",
     "output_type": "stream",
     "text": [
      "Epoch 0: train loss -1.9953852315702696\n",
      "Epoch 1: train loss -1.9999820342891643\n"
     ]
    }
   ],
   "source": [
    "criticX=granoGAN.train_criticX(train_loader)"
   ]
  },
  {
   "cell_type": "code",
   "execution_count": 12,
   "id": "4007366f-cced-450f-8617-af5b89994a65",
   "metadata": {},
   "outputs": [],
   "source": [
    "PATH='/home/jupyter/GRANOGAN-IISC/src/saved_models/granogan/swat/criticX.pkl'\n"
   ]
  },
  {
   "cell_type": "code",
   "execution_count": null,
   "id": "b9f07e43-27a2-4e69-acde-eab7a9a47a29",
   "metadata": {},
   "outputs": [],
   "source": [
    "torch.save(criticX.module.state_dict(), PATH)"
   ]
  },
  {
   "cell_type": "code",
   "execution_count": 13,
   "id": "ea01ab18-1fcd-40e4-a8d1-882cc72002b3",
   "metadata": {},
   "outputs": [],
   "source": [
    "criticX=Critic(in_dim=in_dim,device=device)\n",
    "criticX=nn.DataParallel(criticX)\n",
    "criticX.to(device)\n",
    "state_dict = torch.load(PATH)\n",
    "criticX=granoGAN.load_model(state_dict,criticX)"
   ]
  },
  {
   "cell_type": "code",
   "execution_count": 14,
   "id": "143d6378-aab1-45e5-a52c-4300150ad190",
   "metadata": {},
   "outputs": [],
   "source": [
    "granoGAN.initialize_criticX(criticX)"
   ]
  },
  {
   "cell_type": "code",
   "execution_count": null,
   "id": "c99fa9db-bb05-4814-929d-61d4d0300888",
   "metadata": {},
   "outputs": [],
   "source": [
    "criticZ=granoGAN.train_criticZ(train_loader)"
   ]
  },
  {
   "cell_type": "code",
   "execution_count": 15,
   "id": "34adc237-ac10-4759-87ba-a78c5c5344a7",
   "metadata": {},
   "outputs": [],
   "source": [
    "PATH='/home/jupyter/GRANOGAN-IISC/src/saved_models/granogan/swat/criticZ.pkl'\n"
   ]
  },
  {
   "cell_type": "code",
   "execution_count": null,
   "id": "85575d14-098b-4709-86fb-d983ece1f608",
   "metadata": {},
   "outputs": [],
   "source": [
    "torch.save(criticZ.module.state_dict(), PATH)"
   ]
  },
  {
   "cell_type": "code",
   "execution_count": 16,
   "id": "a9a9b65a-a5ff-4324-86ca-b297be6f8438",
   "metadata": {},
   "outputs": [],
   "source": [
    "criticZ=Critic(in_dim=in_dim,device=device)\n",
    "criticZ=nn.DataParallel(criticZ)\n",
    "criticZ.to(device)\n",
    "state_dict = torch.load(PATH)\n",
    "criticZ=granoGAN.load_model(state_dict,criticZ)"
   ]
  },
  {
   "cell_type": "code",
   "execution_count": 17,
   "id": "89d3b818-9490-4d5f-9c3b-c02aead4a2ac",
   "metadata": {},
   "outputs": [],
   "source": [
    "granoGAN.initialize_criticZ(criticZ)"
   ]
  },
  {
   "cell_type": "code",
   "execution_count": null,
   "id": "b1e5c7a1-54b2-4880-833f-0693ff03a4e3",
   "metadata": {},
   "outputs": [
    {
     "name": "stderr",
     "output_type": "stream",
     "text": [
      "/home/jupyter/GRANOGAN-IISC/src/algorithms/GranoGAN.py:173: UserWarning: nn.init.normal is now deprecated in favor of nn.init.normal_.\n",
      "  noise = Variable(init.normal(torch.Tensor(batch_size,seq_len,self.in_dim),mean=self.mean,std=self.std))\n"
     ]
    }
   ],
   "source": [
    "encoder,decoder=granoGAN.train_enc_dec(train_loader)"
   ]
  },
  {
   "cell_type": "code",
   "execution_count": null,
   "id": "4ae9b742-71f6-41b0-9e5a-fd54ae4f5b5b",
   "metadata": {},
   "outputs": [],
   "source": [
    "PATH_encoder='/home/jupyter/GRANOGAN-IISC/src/saved_models/granogan/swat/encoder.pkl'\n",
    "\n",
    "PATH_decoder='/home/jupyter/GRANOGAN-IISC/src/saved_models/granogan/swat/decoder.pkl'"
   ]
  },
  {
   "cell_type": "code",
   "execution_count": null,
   "id": "a1b7b5e5-21fa-4cb2-92db-5bbb5e72c392",
   "metadata": {},
   "outputs": [],
   "source": [
    "torch.save(encoder.module.state_dict(), PATH_encoder)\n",
    "torch.save(decoder.module.state_dict(), PATH_decoder)"
   ]
  },
  {
   "cell_type": "code",
   "execution_count": null,
   "id": "4eaf2a6d-ce6b-47fb-8730-92344aba155c",
   "metadata": {},
   "outputs": [],
   "source": [
    "encoder=Encoder(n_features=in_dim, embedding_dim=in_dim,device=device)\n",
    "encoder=nn.DataParallel(encoder)\n",
    "encoder.to(device)\n",
    "state_dict = torch.load(PATH_encoder)\n",
    "encoder=granoGAN.load_model(state_dict,encoder)"
   ]
  },
  {
   "cell_type": "code",
   "execution_count": null,
   "id": "3eff54f1-5e43-479c-aa12-b89426db945e",
   "metadata": {},
   "outputs": [],
   "source": [
    "decoder=Decoder(in_dim=in_dim,out_dim=in_dim,device=device)\n",
    "decoder=nn.DataParallel(decoder)\n",
    "decoder.to(device)\n",
    "state_dict = torch.load(PATH_decoder)\n",
    "decoder=granoGAN.load_model(state_dict,decoder)"
   ]
  },
  {
   "cell_type": "code",
   "execution_count": null,
   "id": "3d38f32c-8ce8-4196-96b2-f83499aad064",
   "metadata": {},
   "outputs": [],
   "source": [
    "granoGAN.initialize_decoder(decoder)\n",
    "granoGAN.initialize_encoder(encoder)"
   ]
  },
  {
   "cell_type": "code",
   "execution_count": null,
   "id": "0f545299-7ba1-4d28-94ca-8707d8e32f35",
   "metadata": {},
   "outputs": [],
   "source": [
    "granoGAN.initialize_models(criticX,criticZ,decoder,encoder)"
   ]
  },
  {
   "cell_type": "code",
   "execution_count": null,
   "id": "5997accc-da7b-4432-9699-002e65f8e7c6",
   "metadata": {},
   "outputs": [],
   "source": [
    "sequences,y_test_per_window = get_sub_seqs(x_test,y_test, seq_len=60, stride=60, start_discont=np.array([]))\n",
    "test_loader = DataLoader(dataset=sequences, batch_size=1,  num_workers=4,\n",
    "                                 shuffle=False)"
   ]
  },
  {
   "cell_type": "code",
   "execution_count": null,
   "id": "082e2a33-ecb3-4182-91a2-1f1b38f3644f",
   "metadata": {},
   "outputs": [],
   "source": [
    "losses=granoGAN.predict_loss(test_loader)"
   ]
  },
  {
   "cell_type": "code",
   "execution_count": null,
   "id": "683ce3a4-5072-44db-bf82-48c617a18844",
   "metadata": {},
   "outputs": [],
   "source": [
    "import matplotlib.pyplot as plt\n",
    "import seaborn as sns"
   ]
  },
  {
   "cell_type": "code",
   "execution_count": null,
   "id": "69c6f2b9-090d-4643-a38c-c0aff27fed5a",
   "metadata": {},
   "outputs": [],
   "source": [
    "plt.figure(figsize=(16,9), dpi=80)\n",
    "plt.title('Loss Distribution', fontsize=16)\n",
    "sns.histplot(losses, bins = 20, kde= False, color = 'blue');\n",
    "#sns.distplot(losses, bins = 20, kde= True, color = 'blue');"
   ]
  },
  {
   "cell_type": "code",
   "execution_count": 74,
   "id": "90add5f5-bcb6-43b9-ad5d-e25bccaf4ae4",
   "metadata": {},
   "outputs": [
    {
     "data": {
      "image/png": "[encoded data removed]",
      "text/plain": [
       "<Figure size 432x288 with 1 Axes>"
      ]
     },
     "metadata": {
      "needs_background": "light"
     },
     "output_type": "display_data"
    }
   ],
   "source": [
    "THRESHOLD =5\n",
    "\n",
    "test_score_df = pd.DataFrame(index=range(len(losses)))\n",
    "test_score_df['loss'] = [loss/60 for loss in losses]\n",
    "test_score_df['y'] = y_test_per_window\n",
    "test_score_df['threshold'] = THRESHOLD\n",
    "test_score_df['anomaly'] = test_score_df.loss > test_score_df.threshold\n",
    "#test_score_df['t'] = [x[59].item() for x in sequences]\n",
    "\n",
    "plt.plot( test_score_df.loss, label='loss')\n",
    "plt.plot( test_score_df.threshold, label='threshold')\n",
    "plt.plot( test_score_df.y, label='y')\n",
    "plt.xticks(rotation=25)\n",
    "plt.legend();"
   ]
  },
  {
   "cell_type": "code",
   "execution_count": 82,
   "id": "dfd65d37-c8fa-46fc-8a9a-c1945f31fdc7",
   "metadata": {},
   "outputs": [
    {
     "data": {
      "image/png": "[encoded data removed]",
      "text/plain": [
       "<Figure size 432x288 with 1 Axes>"
      ]
     },
     "metadata": {
      "needs_background": "light"
     },
     "output_type": "display_data"
    }
   ],
   "source": [
    "diff = list()\n",
    "for i in range(0, len(losses)):\n",
    "    value = losses[i]/60 - losses[i - 1]/60\n",
    "    diff.append(value)\n",
    "plt.plot(diff)\n",
    "plt.show()"
   ]
  },
  {
   "cell_type": "code",
   "execution_count": 145,
   "id": "967f13fd-eb89-4289-8198-3d55457aba78",
   "metadata": {},
   "outputs": [
    {
     "data": {
      "image/png": "[encoded data removed]",
      "text/plain": [
       "<Figure size 432x288 with 1 Axes>"
      ]
     },
     "metadata": {
      "needs_background": "light"
     },
     "output_type": "display_data"
    }
   ],
   "source": [
    "THRESHOLD =1.62\n",
    "\n",
    "test_score_df = pd.DataFrame(index=range(len(diff)))\n",
    "test_score_df['loss'] = [loss for loss in diff]\n",
    "test_score_df['y'] = y_test_per_window\n",
    "test_score_df['threshold'] = THRESHOLD\n",
    "test_score_df['anomaly'] = test_score_df.loss > test_score_df.threshold\n",
    "#test_score_df['t'] = [x[59].item() for x in sequences]\n",
    "\n",
    "plt.plot( test_score_df.loss, label='loss')\n",
    "plt.plot( test_score_df.threshold, label='threshold')\n",
    "plt.plot( test_score_df.y, label='y')\n",
    "plt.xticks(rotation=25)\n",
    "plt.legend();"
   ]
  },
  {
   "cell_type": "code",
   "execution_count": 146,
   "id": "7c78a891-501b-4faf-ae9e-5df7b1751a26",
   "metadata": {},
   "outputs": [],
   "source": [
    "import numpy as np\n",
    "actual,predicted=improve_detection(test_score_df)"
   ]
  },
  {
   "cell_type": "code",
   "execution_count": 147,
   "id": "ad2a1163-e3a3-4730-bf4f-cf423da57c44",
   "metadata": {},
   "outputs": [
    {
     "name": "stdout",
     "output_type": "stream",
     "text": [
      "True Positive\t 217\n",
      "True Negative\t 6455\n",
      "False Positive\t 97\n",
      "False Negative\t 140\n",
      "Accuracy\t 0.9656969170646982\n",
      "Precision\t 0.6910828025477707\n",
      "Recall\t 0.6078431372549019\n",
      "f-measure\t 0.6467958271236959\n",
      "cohen_kappa_score\t 0.6288466939257341\n",
      "auc\t 0.7965192487251311\n",
      "roc_auc\t 0.7965192487251311\n"
     ]
    }
   ],
   "source": [
    "\n",
    "from sklearn.metrics import cohen_kappa_score\n",
    "from sklearn.metrics import roc_curve, auc, roc_auc_score\n",
    "\n",
    "predicted = np.array(predicted)\n",
    "actual = np.array(actual)\n",
    "\n",
    "print_scores(predicted,actual)"
   ]
  },
  {
   "cell_type": "code",
   "execution_count": null,
   "id": "5d3dc76d-6d5c-490e-a54d-85cb5c42b7d9",
   "metadata": {},
   "outputs": [],
   "source": []
  }
 ],
 "metadata": {
  "kernelspec": {
   "display_name": ".venv",
   "language": "python",
   "name": "python3"
  },
  "language_info": {
   "codemirror_mode": {
    "name": "ipython",
    "version": 3
   },
   "file_extension": ".py",
   "mimetype": "text/x-python",
   "name": "python",
   "nbconvert_exporter": "python",
   "pygments_lexer": "ipython3",
   "version": "3.9.6"
  }
 },
 "nbformat": 4,
 "nbformat_minor": 5
}
