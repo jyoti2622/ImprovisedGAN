{
 "cells": [
  {
   "cell_type": "markdown",
   "id": "cc433031",
   "metadata": {},
   "source": [
    "## Managing Runtime Enviroments from the notebook terminal"
   ]
  },
  {
   "cell_type": "markdown",
   "id": "0cc69ad9",
   "metadata": {},
   "source": [
    "#### A CLI tool is available in the notebook to help users manage there environments \n",
    "1. To fetch the list of environments available in the notebook, project \n",
    "2. Associate environments to the notebook\n",
    "3. Detach environments from the notebook\n",
    "4. Refresh environments\n",
    "5. Save environments from the notebook\n",
    "6. Install Element Mlutils/Mlflow packages\n",
    "7. Export files to cluster (Currently available only for Dpaas Cluster)"
   ]
  },
  {
   "cell_type": "markdown",
   "id": "bf171c7a",
   "metadata": {},
   "source": [
    "<b> element_env_cli </b> is the environment management utility "
   ]
  },
  {
   "cell_type": "markdown",
   "id": "84a9c65c-e809-47c9-9096-7bc65ae5ba4d",
   "metadata": {},
   "source": [
    "### How to Edit an environment from notebook terminal?"
   ]
  },
  {
   "cell_type": "markdown",
   "id": "fa22c44a-ed5e-4eb8-87f2-575d999e19c8",
   "metadata": {},
   "source": [
    "1. activate the environment to edit using the command : <b>conda activate env_name</b>\n",
    "2. Install a package / upgrade a package / uninstall a package.\n",
    "3. Now use the CLI to save changes to your current environment : <b>element_env_cli save</b>, you will then be prompted to enter the environment ID. Environment ID can be obtained by executing <b>element_env_cli list</b> or from the <b>Details</b> section.\n",
    "4. Restart the Kernel once the save action is complete.\n",
    "4. Alternately, you can save your current changes to a new environment without modifiying the current environment, then use : <b>element_env_cli saveas</b>, this will create a new environment with all the current changes, you will be prompted to provide the environment name and description to create a new environment and the new environment is automatically associated with the notebook."
   ]
  },
  {
   "cell_type": "markdown",
   "id": "89790291-43df-4781-a4a6-acb5173fbc85",
   "metadata": {},
   "source": [
    "### How to associate multiple environments in the notebook?"
   ]
  },
  {
   "cell_type": "markdown",
   "id": "6d1f6a32-8ba8-4d41-bf25-126dcc13da54",
   "metadata": {},
   "source": [
    "1. Use <b>element_env_cli list --all</b> to fetch the list of available environments in your project.\n",
    "2. Choose an environment which is currently not associated with the notebook (associated = No)\n",
    "3. Execute command <b>element_env_cli associate</b>, you will be prompted to enter the environment id to associate with the notebook. Upon  completion a new kernel is created for the new environment associated in python notebooks."
   ]
  },
  {
   "cell_type": "markdown",
   "id": "56969514-1b67-4690-b306-b52f4353f355",
   "metadata": {},
   "source": [
    "##### Note : A notebook can be associated with maximum of 3 environments only."
   ]
  },
  {
   "cell_type": "markdown",
   "id": "5b6c7ca7-3274-4ede-b48d-5e9fcf697d5d",
   "metadata": {},
   "source": [
    "### How to detach an environment from the notebook?"
   ]
  },
  {
   "cell_type": "markdown",
   "id": "aaaec4b0-a190-4ca9-a4e1-23122965258f",
   "metadata": {},
   "source": [
    "1. Use <b>element_env_cli list</b> to fetch the list of environments associated in the notebook.\n",
    "2. Choose an environment which is to be detached from the notebook.\n",
    "3. Execute command <b>element_env_cli detach</b>, you will be prompted to enter the environment id to disassociate from the notebook. Upon  completion the kernel corresponding to the detached environment will be removed from the python notebook."
   ]
  },
  {
   "cell_type": "markdown",
   "id": "febd261a-d827-4eb0-a23d-8d74128f5142",
   "metadata": {},
   "source": [
    "##### Note : A notebook must be associated with a minimum of 1 environment."
   ]
  },
  {
   "cell_type": "markdown",
   "id": "10cadd31-9021-4711-8aff-d384c9d24c61",
   "metadata": {},
   "source": [
    "### How to refresh the environment to reflect the installations performed using <b>Libraries</b> section?"
   ]
  },
  {
   "cell_type": "markdown",
   "id": "f110d1ff-91fc-4872-9746-4eb861135edc",
   "metadata": {},
   "source": [
    "1. Execute command <b>element_env_cli refresh</b> , you will be prompted to enter the environment id to refresh\n",
    "2. Upon completion, restart your Kernel\n",
    "3. All the new packages installed or package upgrades will be available for use."
   ]
  },
  {
   "cell_type": "markdown",
   "id": "6a217e83-3ec0-4674-b3b6-0847e66dd5e8",
   "metadata": {},
   "source": [
    "### How to switch between environments in a <b>PySpark</b> notebook?"
   ]
  },
  {
   "cell_type": "markdown",
   "id": "9464eb7f-bb92-4428-9b27-158fdf265519",
   "metadata": {},
   "source": [
    "A PySpark notebook contains a single 'PySpark kernel', But when you have multiple environments associated in the notebooks, to switch between environments:\n",
    "1. execute command <b>element_env_cli switch</b>, you will be prompted to enter the environment id. \n",
    "2. Upon the command completion, the PySpark kernel will be associated with environment ID provided. \n",
    "3. Now restart the Kernel before use."
   ]
  },
  {
   "cell_type": "markdown",
   "id": "a429706e",
   "metadata": {},
   "source": [
    "### How to install Element Mlutils/Mlflow to an associated environment from notebook?"
   ]
  },
  {
   "cell_type": "markdown",
   "id": "f5342143",
   "metadata": {},
   "source": [
    "1. Use <b>element_env_cli list</b> to fetch the list of environments associated in the notebook.\n",
    "2. Choose an environment to which mlutils/mlflow is to be installed from the notebook.\n",
    "3. Execute command <b>element_env_cli install</b>, you will be prompted to enter the environment id to which the installation should happen. And then you will be prompted to enter package name(mlutils/mlflow) for installation.\n",
    "4. Now use CLI command save/saveas a new environment.\n",
    "5. Restart the Kernel once the save/installation is complete.\n",
    "##### Note : Mlflow installation is not allowed for Python 2.x versions"
   ]
  },
  {
   "cell_type": "markdown",
   "id": "6ae16c7d-32d9-4fff-a219-7480a6f6caa8",
   "metadata": {},
   "source": [
    "### How to Export Environment Packages to <b>Dpaas</b> Cluster?"
   ]
  },
  {
   "cell_type": "markdown",
   "id": "b2185424-3381-472b-9ea9-738f7179b190",
   "metadata": {},
   "source": [
    "1. Use <b>element_env_cli list</b> to fetch the list of environments associated in the notebook.\n",
    "2. Choose an environment for which you would like to export to dpaas cluster.\n",
    "3. Execute command <b>element_env_cli export</b>, you will be prompted to enter the environment id. \n",
    "4. You will get success/failure message upon completion of export.\n",
    "5. Restart the Kernel once the export is completed.\n",
    "##### Note : Export is only available for notebooks associated with dpaas cluster."
   ]
  }
 ],
 "metadata": {
  "kernelspec": {
   "display_name": "Default_env_55760",
   "language": "python",
   "name": "46016"
  },
  "language_info": {
   "codemirror_mode": {
    "name": "ipython",
    "version": 3
   },
   "file_extension": ".py",
   "mimetype": "text/x-python",
   "name": "python",
   "nbconvert_exporter": "python",
   "pygments_lexer": "ipython3",
   "version": "3.8.10"
  }
 },
 "nbformat": 4,
 "nbformat_minor": 5
}
