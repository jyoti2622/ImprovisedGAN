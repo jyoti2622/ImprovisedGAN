{
 "cells": [
  {
   "cell_type": "code",
   "execution_count": 2,
   "id": "a87cf415-e6a3-4dea-98b9-0bde0633663b",
   "metadata": {},
   "outputs": [],
   "source": [
    "import torch\n",
    "import torch.nn as nn \n",
    "import pandas as pd\n",
    "import numpy as np\n",
    "import time\n",
    "import torch.backends.cudnn as cudnn\n",
    "import datetime\n",
    "from pathlib import Path\n"
   ]
  },
  {
   "cell_type": "code",
   "execution_count": 3,
   "id": "e89fd3f4-e05a-4798-99e2-dcdc25bffc99",
   "metadata": {},
   "outputs": [],
   "source": [
    "from src.algorithms.LSTMAutoencoder import LSTMAutoencoderAlgo\n",
    "from src.utils.util import *\n",
    "from src.dataset.Nabdataset import NabDataset\n",
    "from src.model.modelLSTM import Encoder,Decoder,LSTMAutoencoder\n",
    "from src.utils.timeseries_anomalies import _fixed_threshold,_find_threshold\n",
    "from src.utils.metrics import *"
   ]
  },
  {
   "cell_type": "code",
   "execution_count": 4,
   "id": "6336e17f-752b-42c1-9fc6-c308db460cc2",
   "metadata": {},
   "outputs": [
    {
     "name": "stdout",
     "output_type": "stream",
     "text": [
      "12:51:22\n"
     ]
    }
   ],
   "source": [
    "#This is the beginning of programm\n",
    "t = time.localtime()\n",
    "current_time = time.strftime(\"%H:%M:%S\", t)\n",
    "print(current_time)"
   ]
  },
  {
   "cell_type": "markdown",
   "id": "81bd1a4d-6d43-4ca6-88cc-715ed518e508",
   "metadata": {},
   "source": [
    "<h4>Initializing Dataset</h4>"
   ]
  },
  {
   "cell_type": "code",
   "execution_count": 7,
   "id": "3e57cc31-1e45-4a66-9f10-f50ad5667ae9",
   "metadata": {},
   "outputs": [],
   "source": [
    "class ArgsTrn:\n",
    "    workers=4\n",
    "    batch_size=32\n",
    "    epochs=10\n",
    "    lr=0.0002\n",
    "    cuda = True\n",
    "    manualSeed=2\n",
    "    mean=0\n",
    "    std=0.1\n",
    "    \n",
    "opt_trn=ArgsTrn()\n",
    "    \n",
    "opt_trn=ArgsTrn()\n",
    "torch.manual_seed(opt_trn.manualSeed)\n",
    "\n",
    "\n",
    "\n",
    "class Datasettings:\n",
    "    \n",
    "    def __init__(self):\n",
    "        end_name='Twitter_volume_AAPL.csv'\n",
    "        self.data_folder_path = Path.cwd().joinpath(\"data\", \"nab\")\n",
    "        key='realTweets/'+end_name \n",
    "        self.label_file = './lables/combined_windows.json'\n",
    "        self.key=key\n",
    "        self.train=True\n",
    "        self.window_length=60"
   ]
  },
  {
   "cell_type": "code",
   "execution_count": 8,
   "id": "fc82b7cb-cc9f-4103-a5a6-e72b9e3e5d0d",
   "metadata": {},
   "outputs": [],
   "source": [
    "data_settings = Datasettings()\n",
    "dataset = NabDataset(data_settings=data_settings)\n",
    "dataloader = torch.utils.data.DataLoader(dataset, batch_size=opt_trn.batch_size,\n",
    "                                         shuffle=True, num_workers=int(opt_trn.workers))\n",
    "seq_len = dataset.window_length # sequence length is equal to the window length\n",
    "in_dim = dataset.n_feature # input dimension is same as number of feature\n",
    "n_features=dataset.x.shape[2]\n",
    "sequences=[x for i, (x,y) in enumerate(dataloader, 0)]"
   ]
  },
  {
   "cell_type": "code",
   "execution_count": 9,
   "id": "179984d1-c257-41dc-b33c-936961033792",
   "metadata": {},
   "outputs": [],
   "source": [
    "device = torch.device(\"cuda\" if torch.cuda.is_available() else \"cpu\")\n"
   ]
  },
  {
   "cell_type": "code",
   "execution_count": 10,
   "id": "8f3e786a-3813-429c-b883-cb79703e3627",
   "metadata": {},
   "outputs": [],
   "source": [
    "dataset.x.shape\n",
    "embedding_dim=16"
   ]
  },
  {
   "cell_type": "code",
   "execution_count": 11,
   "id": "e03152af-c18e-4ed5-9d3e-7a42d700790e",
   "metadata": {},
   "outputs": [],
   "source": [
    "lstmAutoencoderAlgo=LSTMAutoencoderAlgo(device=device,opt_trn=opt_trn,windows_length=seq_len,n_features=n_features,embedding_dim=embedding_dim)"
   ]
  },
  {
   "cell_type": "code",
   "execution_count": 12,
   "id": "c5eb1e55-98fa-4a4f-8f2f-a99deac28b63",
   "metadata": {},
   "outputs": [
    {
     "name": "stdout",
     "output_type": "stream",
     "text": [
      "Epoch 0: train loss 0.6398245588011806\n",
      "Epoch 1: train loss 0.5333019349256305\n",
      "Epoch 2: train loss 0.518213661341623\n",
      "Epoch 3: train loss 0.4992484150145353\n",
      "Epoch 4: train loss 0.49225556138785964\n",
      "Epoch 5: train loss 0.4903645836936118\n",
      "Epoch 6: train loss 0.48966548027211776\n",
      "Epoch 7: train loss 0.48921904683263445\n",
      "Epoch 8: train loss 0.48886281704622\n",
      "Epoch 9: train loss 0.4885834918812652\n"
     ]
    }
   ],
   "source": [
    "trained_autoencoder=lstmAutoencoderAlgo.train_autoencoder(sequences)"
   ]
  },
  {
   "cell_type": "code",
   "execution_count": 13,
   "id": "3ec69fe8-608e-401d-8561-96fd1701810c",
   "metadata": {},
   "outputs": [],
   "source": [
    "PATH='/home/jupyter/GRANOGAN-IISC/src/saved_models/LSTMAutoencoder/nab/autoencoder.pkl'"
   ]
  },
  {
   "cell_type": "code",
   "execution_count": 14,
   "id": "78462cd1-32f4-402c-be30-c369cc6d14d5",
   "metadata": {},
   "outputs": [],
   "source": [
    "torch.save(trained_autoencoder.module.state_dict(), PATH)"
   ]
  },
  {
   "cell_type": "code",
   "execution_count": 15,
   "id": "da03fd5b-60ed-4ad4-91fd-09bde750f74a",
   "metadata": {},
   "outputs": [],
   "source": [
    "state_dict = torch.load(PATH)\n",
    "trained_autoencoder=LSTMAutoencoder(embedding_dim, n_features,device=device)\n",
    "trained_autoencoder=nn.DataParallel(trained_autoencoder)\n",
    "trained_autoencoder.to(device)\n",
    "trained_autoencoder=lstmAutoencoderAlgo.load_model(state_dict,trained_autoencoder)\n"
   ]
  },
  {
   "cell_type": "markdown",
   "id": "1ba42388-8f38-4188-9d80-429e6ed6be4a",
   "metadata": {},
   "source": [
    "<h4>Loading back the saved models</h4>"
   ]
  },
  {
   "cell_type": "code",
   "execution_count": 16,
   "id": "1653af3c-d716-4e5a-bc74-9e3b3cba1656",
   "metadata": {},
   "outputs": [],
   "source": [
    "lstmAutoencoderAlgo.intialize_lstmautoencoder(trained_autoencoder)"
   ]
  },
  {
   "cell_type": "markdown",
   "id": "ff66cd44-d2fe-48b6-aea9-906c48ae5f81",
   "metadata": {},
   "source": [
    "<h2>Test Data</h2>"
   ]
  },
  {
   "cell_type": "code",
   "execution_count": 17,
   "id": "aef0e3e6-b871-450b-b036-4ea05e33d1b2",
   "metadata": {},
   "outputs": [],
   "source": [
    "class ArgsTest:\n",
    "    workers = 1\n",
    "    batch_size = 1\n",
    "    \n",
    "opt_test=ArgsTest()"
   ]
  },
  {
   "cell_type": "code",
   "execution_count": 18,
   "id": "276e4a57-8fe6-4269-90b8-c20a31637ee9",
   "metadata": {},
   "outputs": [],
   "source": [
    "\n",
    "class TestDataSettings:\n",
    "    \n",
    "    def __init__(self):\n",
    "        end_name='Twitter_volume_AAPL.csv'\n",
    "        self.data_folder_path=\"/home/jupyter/GRANOGAN-IISC/data/nab/\"\n",
    "        key='realTweets/'+end_name  \n",
    "        self.label_file = './lables/combined_windows.json'\n",
    "        self.key=key\n",
    "        self.train=False\n",
    "        self.window_length=60        \n",
    "        \n",
    "test_data_settings = TestDataSettings()"
   ]
  },
  {
   "cell_type": "code",
   "execution_count": 20,
   "id": "007ffce7-d8b2-4baf-9b6f-3903ece9dae5",
   "metadata": {},
   "outputs": [],
   "source": [
    "# define dataset object and data loader object in evaluation mood for NAB dataset\n",
    "test_dataset = NabDataset(test_data_settings)\n",
    "test_dataloader = torch.utils.data.DataLoader(test_dataset, batch_size=opt_test.batch_size, \n",
    "                                         shuffle=False, num_workers=int(opt_test.workers))\n",
    "\n",
    "test_dataset.x.shape, test_dataset.y.shape, test_dataset.data_len # check the dataset shape\n",
    "\n",
    "\n",
    "test_sequences=[x for i, (x,y) in enumerate(test_dataloader, 0)]"
   ]
  },
  {
   "cell_type": "code",
   "execution_count": 21,
   "id": "ca8f522c-1c1c-4470-bcbb-6bc1e2bb9764",
   "metadata": {},
   "outputs": [],
   "source": [
    "losses=lstmAutoencoderAlgo.predict_loss(test_sequences)"
   ]
  },
  {
   "cell_type": "code",
   "execution_count": 22,
   "id": "bc38a41c-5f89-433b-b5dd-ea97cf1744d6",
   "metadata": {},
   "outputs": [],
   "source": [
    "import matplotlib.pyplot as plt\n",
    "import seaborn as sns"
   ]
  },
  {
   "cell_type": "code",
   "execution_count": 23,
   "id": "87bf2162-1a20-4d67-9b1d-bdf942ec82d7",
   "metadata": {},
   "outputs": [
    {
     "data": {
      "image/png": "[encoded data removed]",
      "text/plain": [
       "<Figure size 1280x720 with 1 Axes>"
      ]
     },
     "metadata": {
      "needs_background": "light"
     },
     "output_type": "display_data"
    }
   ],
   "source": [
    "plt.figure(figsize=(16,9), dpi=80)\n",
    "plt.title('Loss Distribution', fontsize=16)\n",
    "sns.histplot(losses, bins = 20, kde= False, color = 'blue');\n",
    "#sns.distplot(losses, bins = 20, kde= True, color = 'blue');"
   ]
  },
  {
   "cell_type": "code",
   "execution_count": 24,
   "id": "364de09e-a960-4a01-83fe-da2a10eeb354",
   "metadata": {},
   "outputs": [
    {
     "data": {
      "image/png": "[encoded data removed]",
      "text/plain": [
       "<Figure size 432x288 with 1 Axes>"
      ]
     },
     "metadata": {
      "needs_background": "light"
     },
     "output_type": "display_data"
    }
   ],
   "source": [
    "\n",
    "THRESHOLD =1.7\n",
    "\n",
    "test_score_df = pd.DataFrame(index=range(len(losses)))\n",
    "test_score_df['loss'] = [loss for loss in losses]\n",
    "test_score_df['y'] = test_dataset.y\n",
    "test_score_df['threshold'] = THRESHOLD\n",
    "test_score_df['anomaly'] = test_score_df.loss > test_score_df.threshold\n",
    "test_score_df['t'] = [x[59].item() for x in test_dataset.x]\n",
    "\n",
    "plt.plot( test_score_df.loss, label='loss')\n",
    "plt.plot( test_score_df.threshold, label='threshold')\n",
    "#plt.plot( test_score_df.y, label='y')\n",
    "plt.xticks(rotation=25)\n",
    "plt.legend();"
   ]
  },
  {
   "cell_type": "code",
   "execution_count": 25,
   "id": "a0c7ebb8-f494-47a0-9a21-06a75eedfe79",
   "metadata": {},
   "outputs": [],
   "source": [
    "import numpy as np\n",
    "actual,predicted=improve_detection(test_score_df)"
   ]
  },
  {
   "cell_type": "code",
   "execution_count": 26,
   "id": "dbc7d8ad-77ff-4657-9162-ac686a37aa4f",
   "metadata": {},
   "outputs": [
    {
     "name": "stdout",
     "output_type": "stream",
     "text": [
      "True Positive\t 23\n",
      "True Negative\t 228\n",
      "False Positive\t 6\n",
      "False Negative\t 8\n",
      "Accuracy\t 0.9471698113207547\n",
      "Precision\t 0.7931034482758621\n",
      "Recall\t 0.7419354838709677\n",
      "f-measure\t 0.7666666666666667\n",
      "cohen_kappa_score\t 0.7369167493972486\n",
      "auc\t 0.8581472291149711\n",
      "roc_auc\t 0.8581472291149711\n"
     ]
    }
   ],
   "source": [
    "\n",
    "from sklearn.metrics import cohen_kappa_score\n",
    "from sklearn.metrics import roc_curve, auc, roc_auc_score\n",
    "\n",
    "predicted = np.array(predicted)\n",
    "actual = np.array(actual)\n",
    "\n",
    "print_scores(predicted,actual)"
   ]
  },
  {
   "cell_type": "code",
   "execution_count": null,
   "id": "97b8411c-a68c-446f-b057-586b2aa83a6c",
   "metadata": {},
   "outputs": [],
   "source": []
  },
  {
   "cell_type": "code",
   "execution_count": null,
   "id": "13bc77ce-a115-42e2-b677-06d91e62acda",
   "metadata": {},
   "outputs": [],
   "source": []
  }
 ],
 "metadata": {
  "kernelspec": {
   "display_name": "Default_env_55760",
   "language": "python",
   "name": "46016"
  },
  "language_info": {
   "codemirror_mode": {
    "name": "ipython",
    "version": 3
   },
   "file_extension": ".py",
   "mimetype": "text/x-python",
   "name": "python",
   "nbconvert_exporter": "python",
   "pygments_lexer": "ipython3",
   "version": "3.8.10"
  }
 },
 "nbformat": 4,
 "nbformat_minor": 5
}
