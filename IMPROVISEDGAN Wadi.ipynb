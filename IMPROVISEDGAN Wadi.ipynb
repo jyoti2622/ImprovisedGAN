{
 "cells": [
  {
   "cell_type": "code",
   "execution_count": 1,
   "id": "09700251-c3ca-48c0-8db3-8d3f41db2e57",
   "metadata": {},
   "outputs": [],
   "source": [
    "import torch\n",
    "import torch.nn as nn \n",
    "import pandas as pd\n",
    "import numpy as np\n",
    "import time\n",
    "import torch.backends.cudnn as cudnn\n",
    "from torch.autograd import Variable\n",
    "import datetime\n",
    "from sklearn.impute import SimpleImputer\n",
    "from sklearn.decomposition import PCA"
   ]
  },
  {
   "cell_type": "code",
   "execution_count": 2,
   "id": "39c6bcd6-1358-44d7-ad70-b92579b9cd5a",
   "metadata": {},
   "outputs": [],
   "source": [
    "from src.model.modelGranoGan import Encoder,Decoder,Critic\n",
    "from src.utils.losses import Wasserstein\n",
    "from src.utils.util import *\n",
    "from src.dataset.wadi import WadiDataset\n",
    "from src.algorithms.GranoGAN import GranoGAN"
   ]
  },
  {
   "cell_type": "code",
   "execution_count": 3,
   "id": "6288f4ef-0baa-4470-94a7-389a9455ecd4",
   "metadata": {},
   "outputs": [
    {
     "name": "stdout",
     "output_type": "stream",
     "text": [
      "22:46:34\n"
     ]
    }
   ],
   "source": [
    "#This is the beginning of programm\n",
    "t = time.localtime()\n",
    "current_time = time.strftime(\"%H:%M:%S\", t)\n",
    "print(current_time)\n",
    "    \n"
   ]
  },
  {
   "cell_type": "markdown",
   "id": "a54e1628-1bc0-40f8-a557-d4a9972ba6ec",
   "metadata": {},
   "source": [
    "<h4>Initializing Dataset</h4>"
   ]
  },
  {
   "cell_type": "code",
   "execution_count": 4,
   "id": "4e0ff27c-56cf-445e-b10c-6d888c1d4316",
   "metadata": {},
   "outputs": [],
   "source": [
    "class ArgsTrn:\n",
    "    workers=4\n",
    "    batch_size=32\n",
    "    epochs=5\n",
    "    lr=0.0002\n",
    "    cuda = True\n",
    "    manualSeed=2\n",
    "    mean=0\n",
    "    std=0.1\n",
    "    \n",
    "opt_trn=ArgsTrn()\n",
    "torch.manual_seed(opt_trn.manualSeed)\n",
    "\n",
    "\n",
    "class Datasettings:\n",
    "    \n",
    "    def __init__(self):\n",
    "        self.dataset_training_name=\"/home/jupyter/GRANOGAN-IISC/data/wadi/WADI_14days.csv\"\n",
    "        self.dataset_test_name=\"/home/jupyter/GRANOGAN-IISC/data/wadi/WADI_attackdata.csv\"\n",
    "        self.dataset_anomaly_name=\"/home/jupyter/GRANOGAN-IISC/data/wadi/WADI_anomalies.csv\"\n",
    "        self.train=True\n",
    "        self.window_length=60"
   ]
  },
  {
   "cell_type": "code",
   "execution_count": 5,
   "id": "d9b0411b-a6c6-4065-9209-44fd14d56459",
   "metadata": {},
   "outputs": [],
   "source": [
    "seed=0\n",
    "data_settings = Datasettings()\n",
    "wadi = WadiDataset(seed,data_settings)"
   ]
  },
  {
   "cell_type": "code",
   "execution_count": 6,
   "id": "e6dd5dbc-2984-434c-8e85-38425879a478",
   "metadata": {},
   "outputs": [
    {
     "ename": "FileNotFoundError",
     "evalue": "[Errno 2] No such file or directory: '/home/jupyter/GRANOGAN-IISC/data/wadi/WADI_14days.csv'",
     "output_type": "error",
     "traceback": [
      "\u001b[0;31m---------------------------------------------------------------------------\u001b[0m",
      "\u001b[0;31mFileNotFoundError\u001b[0m                         Traceback (most recent call last)",
      "Cell \u001b[0;32mIn[6], line 1\u001b[0m\n\u001b[0;32m----> 1\u001b[0m x_train, y_train, x_test, y_test \u001b[38;5;241m=\u001b[39m \u001b[43mwadi\u001b[49m\u001b[38;5;241;43m.\u001b[39;49m\u001b[43mdata\u001b[49m\u001b[43m(\u001b[49m\u001b[43m)\u001b[49m\n",
      "File \u001b[0;32m~/Downloads/GRANOGAN-main/src/dataset/wadi.py:40\u001b[0m, in \u001b[0;36mWadiDataset.data\u001b[0;34m(self)\u001b[0m\n\u001b[1;32m     38\u001b[0m \u001b[38;5;250m\u001b[39m\u001b[38;5;124;03m\"\"\"Return data, load if necessary\"\"\"\u001b[39;00m\n\u001b[1;32m     39\u001b[0m \u001b[38;5;28;01mif\u001b[39;00m \u001b[38;5;28mself\u001b[39m\u001b[38;5;241m.\u001b[39m_data \u001b[38;5;129;01mis\u001b[39;00m \u001b[38;5;28;01mNone\u001b[39;00m:\n\u001b[0;32m---> 40\u001b[0m     \u001b[38;5;28;43mself\u001b[39;49m\u001b[38;5;241;43m.\u001b[39;49m\u001b[43mload\u001b[49m\u001b[43m(\u001b[49m\u001b[43m)\u001b[49m\n\u001b[1;32m     41\u001b[0m \u001b[38;5;28;01mreturn\u001b[39;00m \u001b[38;5;28mself\u001b[39m\u001b[38;5;241m.\u001b[39m_data\n",
      "File \u001b[0;32m~/Downloads/GRANOGAN-main/src/dataset/wadi.py:134\u001b[0m, in \u001b[0;36mWadiDataset.load\u001b[0;34m(self)\u001b[0m\n\u001b[1;32m    132\u001b[0m \u001b[38;5;28;01mdef\u001b[39;00m \u001b[38;5;21mload\u001b[39m(\u001b[38;5;28mself\u001b[39m):\n\u001b[1;32m    133\u001b[0m     OUTLIER_CLASS \u001b[38;5;241m=\u001b[39m \u001b[38;5;241m1\u001b[39m\n\u001b[0;32m--> 134\u001b[0m     df_x_train: pd\u001b[38;5;241m.\u001b[39mDataFrame \u001b[38;5;241m=\u001b[39m \u001b[43mpd\u001b[49m\u001b[38;5;241;43m.\u001b[39;49m\u001b[43mread_csv\u001b[49m\u001b[43m(\u001b[49m\u001b[38;5;28;43mself\u001b[39;49m\u001b[38;5;241;43m.\u001b[39;49m\u001b[43mdataset_training_name\u001b[49m\u001b[43m,\u001b[49m\u001b[43m \u001b[49m\u001b[43mheader\u001b[49m\u001b[38;5;241;43m=\u001b[39;49m\u001b[38;5;241;43m3\u001b[39;49m\u001b[43m)\u001b[49m\n\u001b[1;32m    135\u001b[0m     df_x_test: pd\u001b[38;5;241m.\u001b[39mDataFrame \u001b[38;5;241m=\u001b[39m pd\u001b[38;5;241m.\u001b[39mread_csv(\u001b[38;5;28mself\u001b[39m\u001b[38;5;241m.\u001b[39mdataset_test_name, header\u001b[38;5;241m=\u001b[39m\u001b[38;5;241m0\u001b[39m)\n\u001b[1;32m    136\u001b[0m     \u001b[38;5;66;03m# Removing 4 columns who only contain nans (data missing from the csv file)\u001b[39;00m\n",
      "File \u001b[0;32m~/Downloads/GRANOGAN-main/.venv/lib/python3.12/site-packages/pandas/io/parsers/readers.py:1026\u001b[0m, in \u001b[0;36mread_csv\u001b[0;34m(filepath_or_buffer, sep, delimiter, header, names, index_col, usecols, dtype, engine, converters, true_values, false_values, skipinitialspace, skiprows, skipfooter, nrows, na_values, keep_default_na, na_filter, verbose, skip_blank_lines, parse_dates, infer_datetime_format, keep_date_col, date_parser, date_format, dayfirst, cache_dates, iterator, chunksize, compression, thousands, decimal, lineterminator, quotechar, quoting, doublequote, escapechar, comment, encoding, encoding_errors, dialect, on_bad_lines, delim_whitespace, low_memory, memory_map, float_precision, storage_options, dtype_backend)\u001b[0m\n\u001b[1;32m   1013\u001b[0m kwds_defaults \u001b[38;5;241m=\u001b[39m _refine_defaults_read(\n\u001b[1;32m   1014\u001b[0m     dialect,\n\u001b[1;32m   1015\u001b[0m     delimiter,\n\u001b[0;32m   (...)\u001b[0m\n\u001b[1;32m   1022\u001b[0m     dtype_backend\u001b[38;5;241m=\u001b[39mdtype_backend,\n\u001b[1;32m   1023\u001b[0m )\n\u001b[1;32m   1024\u001b[0m kwds\u001b[38;5;241m.\u001b[39mupdate(kwds_defaults)\n\u001b[0;32m-> 1026\u001b[0m \u001b[38;5;28;01mreturn\u001b[39;00m \u001b[43m_read\u001b[49m\u001b[43m(\u001b[49m\u001b[43mfilepath_or_buffer\u001b[49m\u001b[43m,\u001b[49m\u001b[43m \u001b[49m\u001b[43mkwds\u001b[49m\u001b[43m)\u001b[49m\n",
      "File \u001b[0;32m~/Downloads/GRANOGAN-main/.venv/lib/python3.12/site-packages/pandas/io/parsers/readers.py:620\u001b[0m, in \u001b[0;36m_read\u001b[0;34m(filepath_or_buffer, kwds)\u001b[0m\n\u001b[1;32m    617\u001b[0m _validate_names(kwds\u001b[38;5;241m.\u001b[39mget(\u001b[38;5;124m\"\u001b[39m\u001b[38;5;124mnames\u001b[39m\u001b[38;5;124m\"\u001b[39m, \u001b[38;5;28;01mNone\u001b[39;00m))\n\u001b[1;32m    619\u001b[0m \u001b[38;5;66;03m# Create the parser.\u001b[39;00m\n\u001b[0;32m--> 620\u001b[0m parser \u001b[38;5;241m=\u001b[39m \u001b[43mTextFileReader\u001b[49m\u001b[43m(\u001b[49m\u001b[43mfilepath_or_buffer\u001b[49m\u001b[43m,\u001b[49m\u001b[43m \u001b[49m\u001b[38;5;241;43m*\u001b[39;49m\u001b[38;5;241;43m*\u001b[39;49m\u001b[43mkwds\u001b[49m\u001b[43m)\u001b[49m\n\u001b[1;32m    622\u001b[0m \u001b[38;5;28;01mif\u001b[39;00m chunksize \u001b[38;5;129;01mor\u001b[39;00m iterator:\n\u001b[1;32m    623\u001b[0m     \u001b[38;5;28;01mreturn\u001b[39;00m parser\n",
      "File \u001b[0;32m~/Downloads/GRANOGAN-main/.venv/lib/python3.12/site-packages/pandas/io/parsers/readers.py:1620\u001b[0m, in \u001b[0;36mTextFileReader.__init__\u001b[0;34m(self, f, engine, **kwds)\u001b[0m\n\u001b[1;32m   1617\u001b[0m     \u001b[38;5;28mself\u001b[39m\u001b[38;5;241m.\u001b[39moptions[\u001b[38;5;124m\"\u001b[39m\u001b[38;5;124mhas_index_names\u001b[39m\u001b[38;5;124m\"\u001b[39m] \u001b[38;5;241m=\u001b[39m kwds[\u001b[38;5;124m\"\u001b[39m\u001b[38;5;124mhas_index_names\u001b[39m\u001b[38;5;124m\"\u001b[39m]\n\u001b[1;32m   1619\u001b[0m \u001b[38;5;28mself\u001b[39m\u001b[38;5;241m.\u001b[39mhandles: IOHandles \u001b[38;5;241m|\u001b[39m \u001b[38;5;28;01mNone\u001b[39;00m \u001b[38;5;241m=\u001b[39m \u001b[38;5;28;01mNone\u001b[39;00m\n\u001b[0;32m-> 1620\u001b[0m \u001b[38;5;28mself\u001b[39m\u001b[38;5;241m.\u001b[39m_engine \u001b[38;5;241m=\u001b[39m \u001b[38;5;28;43mself\u001b[39;49m\u001b[38;5;241;43m.\u001b[39;49m\u001b[43m_make_engine\u001b[49m\u001b[43m(\u001b[49m\u001b[43mf\u001b[49m\u001b[43m,\u001b[49m\u001b[43m \u001b[49m\u001b[38;5;28;43mself\u001b[39;49m\u001b[38;5;241;43m.\u001b[39;49m\u001b[43mengine\u001b[49m\u001b[43m)\u001b[49m\n",
      "File \u001b[0;32m~/Downloads/GRANOGAN-main/.venv/lib/python3.12/site-packages/pandas/io/parsers/readers.py:1880\u001b[0m, in \u001b[0;36mTextFileReader._make_engine\u001b[0;34m(self, f, engine)\u001b[0m\n\u001b[1;32m   1878\u001b[0m     \u001b[38;5;28;01mif\u001b[39;00m \u001b[38;5;124m\"\u001b[39m\u001b[38;5;124mb\u001b[39m\u001b[38;5;124m\"\u001b[39m \u001b[38;5;129;01mnot\u001b[39;00m \u001b[38;5;129;01min\u001b[39;00m mode:\n\u001b[1;32m   1879\u001b[0m         mode \u001b[38;5;241m+\u001b[39m\u001b[38;5;241m=\u001b[39m \u001b[38;5;124m\"\u001b[39m\u001b[38;5;124mb\u001b[39m\u001b[38;5;124m\"\u001b[39m\n\u001b[0;32m-> 1880\u001b[0m \u001b[38;5;28mself\u001b[39m\u001b[38;5;241m.\u001b[39mhandles \u001b[38;5;241m=\u001b[39m \u001b[43mget_handle\u001b[49m\u001b[43m(\u001b[49m\n\u001b[1;32m   1881\u001b[0m \u001b[43m    \u001b[49m\u001b[43mf\u001b[49m\u001b[43m,\u001b[49m\n\u001b[1;32m   1882\u001b[0m \u001b[43m    \u001b[49m\u001b[43mmode\u001b[49m\u001b[43m,\u001b[49m\n\u001b[1;32m   1883\u001b[0m \u001b[43m    \u001b[49m\u001b[43mencoding\u001b[49m\u001b[38;5;241;43m=\u001b[39;49m\u001b[38;5;28;43mself\u001b[39;49m\u001b[38;5;241;43m.\u001b[39;49m\u001b[43moptions\u001b[49m\u001b[38;5;241;43m.\u001b[39;49m\u001b[43mget\u001b[49m\u001b[43m(\u001b[49m\u001b[38;5;124;43m\"\u001b[39;49m\u001b[38;5;124;43mencoding\u001b[39;49m\u001b[38;5;124;43m\"\u001b[39;49m\u001b[43m,\u001b[49m\u001b[43m \u001b[49m\u001b[38;5;28;43;01mNone\u001b[39;49;00m\u001b[43m)\u001b[49m\u001b[43m,\u001b[49m\n\u001b[1;32m   1884\u001b[0m \u001b[43m    \u001b[49m\u001b[43mcompression\u001b[49m\u001b[38;5;241;43m=\u001b[39;49m\u001b[38;5;28;43mself\u001b[39;49m\u001b[38;5;241;43m.\u001b[39;49m\u001b[43moptions\u001b[49m\u001b[38;5;241;43m.\u001b[39;49m\u001b[43mget\u001b[49m\u001b[43m(\u001b[49m\u001b[38;5;124;43m\"\u001b[39;49m\u001b[38;5;124;43mcompression\u001b[39;49m\u001b[38;5;124;43m\"\u001b[39;49m\u001b[43m,\u001b[49m\u001b[43m \u001b[49m\u001b[38;5;28;43;01mNone\u001b[39;49;00m\u001b[43m)\u001b[49m\u001b[43m,\u001b[49m\n\u001b[1;32m   1885\u001b[0m \u001b[43m    \u001b[49m\u001b[43mmemory_map\u001b[49m\u001b[38;5;241;43m=\u001b[39;49m\u001b[38;5;28;43mself\u001b[39;49m\u001b[38;5;241;43m.\u001b[39;49m\u001b[43moptions\u001b[49m\u001b[38;5;241;43m.\u001b[39;49m\u001b[43mget\u001b[49m\u001b[43m(\u001b[49m\u001b[38;5;124;43m\"\u001b[39;49m\u001b[38;5;124;43mmemory_map\u001b[39;49m\u001b[38;5;124;43m\"\u001b[39;49m\u001b[43m,\u001b[49m\u001b[43m \u001b[49m\u001b[38;5;28;43;01mFalse\u001b[39;49;00m\u001b[43m)\u001b[49m\u001b[43m,\u001b[49m\n\u001b[1;32m   1886\u001b[0m \u001b[43m    \u001b[49m\u001b[43mis_text\u001b[49m\u001b[38;5;241;43m=\u001b[39;49m\u001b[43mis_text\u001b[49m\u001b[43m,\u001b[49m\n\u001b[1;32m   1887\u001b[0m \u001b[43m    \u001b[49m\u001b[43merrors\u001b[49m\u001b[38;5;241;43m=\u001b[39;49m\u001b[38;5;28;43mself\u001b[39;49m\u001b[38;5;241;43m.\u001b[39;49m\u001b[43moptions\u001b[49m\u001b[38;5;241;43m.\u001b[39;49m\u001b[43mget\u001b[49m\u001b[43m(\u001b[49m\u001b[38;5;124;43m\"\u001b[39;49m\u001b[38;5;124;43mencoding_errors\u001b[39;49m\u001b[38;5;124;43m\"\u001b[39;49m\u001b[43m,\u001b[49m\u001b[43m \u001b[49m\u001b[38;5;124;43m\"\u001b[39;49m\u001b[38;5;124;43mstrict\u001b[39;49m\u001b[38;5;124;43m\"\u001b[39;49m\u001b[43m)\u001b[49m\u001b[43m,\u001b[49m\n\u001b[1;32m   1888\u001b[0m \u001b[43m    \u001b[49m\u001b[43mstorage_options\u001b[49m\u001b[38;5;241;43m=\u001b[39;49m\u001b[38;5;28;43mself\u001b[39;49m\u001b[38;5;241;43m.\u001b[39;49m\u001b[43moptions\u001b[49m\u001b[38;5;241;43m.\u001b[39;49m\u001b[43mget\u001b[49m\u001b[43m(\u001b[49m\u001b[38;5;124;43m\"\u001b[39;49m\u001b[38;5;124;43mstorage_options\u001b[39;49m\u001b[38;5;124;43m\"\u001b[39;49m\u001b[43m,\u001b[49m\u001b[43m \u001b[49m\u001b[38;5;28;43;01mNone\u001b[39;49;00m\u001b[43m)\u001b[49m\u001b[43m,\u001b[49m\n\u001b[1;32m   1889\u001b[0m \u001b[43m\u001b[49m\u001b[43m)\u001b[49m\n\u001b[1;32m   1890\u001b[0m \u001b[38;5;28;01massert\u001b[39;00m \u001b[38;5;28mself\u001b[39m\u001b[38;5;241m.\u001b[39mhandles \u001b[38;5;129;01mis\u001b[39;00m \u001b[38;5;129;01mnot\u001b[39;00m \u001b[38;5;28;01mNone\u001b[39;00m\n\u001b[1;32m   1891\u001b[0m f \u001b[38;5;241m=\u001b[39m \u001b[38;5;28mself\u001b[39m\u001b[38;5;241m.\u001b[39mhandles\u001b[38;5;241m.\u001b[39mhandle\n",
      "File \u001b[0;32m~/Downloads/GRANOGAN-main/.venv/lib/python3.12/site-packages/pandas/io/common.py:873\u001b[0m, in \u001b[0;36mget_handle\u001b[0;34m(path_or_buf, mode, encoding, compression, memory_map, is_text, errors, storage_options)\u001b[0m\n\u001b[1;32m    868\u001b[0m \u001b[38;5;28;01melif\u001b[39;00m \u001b[38;5;28misinstance\u001b[39m(handle, \u001b[38;5;28mstr\u001b[39m):\n\u001b[1;32m    869\u001b[0m     \u001b[38;5;66;03m# Check whether the filename is to be opened in binary mode.\u001b[39;00m\n\u001b[1;32m    870\u001b[0m     \u001b[38;5;66;03m# Binary mode does not support 'encoding' and 'newline'.\u001b[39;00m\n\u001b[1;32m    871\u001b[0m     \u001b[38;5;28;01mif\u001b[39;00m ioargs\u001b[38;5;241m.\u001b[39mencoding \u001b[38;5;129;01mand\u001b[39;00m \u001b[38;5;124m\"\u001b[39m\u001b[38;5;124mb\u001b[39m\u001b[38;5;124m\"\u001b[39m \u001b[38;5;129;01mnot\u001b[39;00m \u001b[38;5;129;01min\u001b[39;00m ioargs\u001b[38;5;241m.\u001b[39mmode:\n\u001b[1;32m    872\u001b[0m         \u001b[38;5;66;03m# Encoding\u001b[39;00m\n\u001b[0;32m--> 873\u001b[0m         handle \u001b[38;5;241m=\u001b[39m \u001b[38;5;28;43mopen\u001b[39;49m\u001b[43m(\u001b[49m\n\u001b[1;32m    874\u001b[0m \u001b[43m            \u001b[49m\u001b[43mhandle\u001b[49m\u001b[43m,\u001b[49m\n\u001b[1;32m    875\u001b[0m \u001b[43m            \u001b[49m\u001b[43mioargs\u001b[49m\u001b[38;5;241;43m.\u001b[39;49m\u001b[43mmode\u001b[49m\u001b[43m,\u001b[49m\n\u001b[1;32m    876\u001b[0m \u001b[43m            \u001b[49m\u001b[43mencoding\u001b[49m\u001b[38;5;241;43m=\u001b[39;49m\u001b[43mioargs\u001b[49m\u001b[38;5;241;43m.\u001b[39;49m\u001b[43mencoding\u001b[49m\u001b[43m,\u001b[49m\n\u001b[1;32m    877\u001b[0m \u001b[43m            \u001b[49m\u001b[43merrors\u001b[49m\u001b[38;5;241;43m=\u001b[39;49m\u001b[43merrors\u001b[49m\u001b[43m,\u001b[49m\n\u001b[1;32m    878\u001b[0m \u001b[43m            \u001b[49m\u001b[43mnewline\u001b[49m\u001b[38;5;241;43m=\u001b[39;49m\u001b[38;5;124;43m\"\u001b[39;49m\u001b[38;5;124;43m\"\u001b[39;49m\u001b[43m,\u001b[49m\n\u001b[1;32m    879\u001b[0m \u001b[43m        \u001b[49m\u001b[43m)\u001b[49m\n\u001b[1;32m    880\u001b[0m     \u001b[38;5;28;01melse\u001b[39;00m:\n\u001b[1;32m    881\u001b[0m         \u001b[38;5;66;03m# Binary mode\u001b[39;00m\n\u001b[1;32m    882\u001b[0m         handle \u001b[38;5;241m=\u001b[39m \u001b[38;5;28mopen\u001b[39m(handle, ioargs\u001b[38;5;241m.\u001b[39mmode)\n",
      "\u001b[0;31mFileNotFoundError\u001b[0m: [Errno 2] No such file or directory: '/home/jupyter/GRANOGAN-IISC/data/wadi/WADI_14days.csv'"
     ]
    }
   ],
   "source": [
    "x_train, y_train, x_test, y_test = wadi.data()"
   ]
  },
  {
   "cell_type": "code",
   "execution_count": 13,
   "id": "7eba92fb-0348-498a-b198-48f1d95cb34c",
   "metadata": {},
   "outputs": [],
   "source": [
    "imputer = SimpleImputer(missing_values=np.nan, strategy='mean')\n",
    "imputer = imputer.fit(x_train)\n",
    "x_train = imputer.transform(x_train)"
   ]
  },
  {
   "cell_type": "code",
   "execution_count": 14,
   "id": "d7610c3f-837b-4d7b-8f43-4ae3623d305d",
   "metadata": {},
   "outputs": [],
   "source": [
    "reduced_dimesnion=3\n",
    "pca = PCA(n_components=reduced_dimesnion, svd_solver='full')\n",
    "pca.fit(x_train)\n",
    "x_train=pca.transform(x_train)"
   ]
  },
  {
   "cell_type": "code",
   "execution_count": 15,
   "id": "923c7aca-5559-4a76-a8d4-06864b518e2f",
   "metadata": {},
   "outputs": [],
   "source": [
    "pca = PCA(n_components=reduced_dimesnion, svd_solver='full')\n",
    "pca.fit(x_test)\n",
    "x_test=pca.transform(x_test)"
   ]
  },
  {
   "cell_type": "code",
   "execution_count": 16,
   "id": "5b32c0b2-e499-4b93-ba31-d5d95847f2e3",
   "metadata": {},
   "outputs": [],
   "source": [
    "sequences,y_train_per_window = get_sub_seqs(x_train,y_train, seq_len=60, stride=1,\n",
    "                                 start_discont=np.array([]))"
   ]
  },
  {
   "cell_type": "code",
   "execution_count": 17,
   "id": "ca8b8610-63b7-43ff-a844-1ddbea7162f2",
   "metadata": {},
   "outputs": [],
   "source": [
    "train_loader, train_val_loader = get_train_data_loaders(sequences, batch_size=opt_trn.batch_size,\n",
    "                                                                splits=[1 - 0.2,\n",
    "                                                                        0.2], seed=0)"
   ]
  },
  {
   "cell_type": "code",
   "execution_count": 18,
   "id": "3fac0ab3-604d-45ce-b980-2ed4f199fa81",
   "metadata": {},
   "outputs": [],
   "source": [
    "device = torch.device(\"cuda\" if torch.cuda.is_available() else \"cpu\")\n",
    "seq_len = wadi.window_length # sequence length is equal to the window length\n",
    "in_dim = reduced_dimesnion # input dimension is same as number of feature\n",
    "n_features=reduced_dimesnion\n"
   ]
  },
  {
   "cell_type": "code",
   "execution_count": 19,
   "id": "9dcb82f3-b561-49b4-9ab5-da57e2a4556b",
   "metadata": {},
   "outputs": [
    {
     "name": "stdout",
     "output_type": "stream",
     "text": [
      "__Python VERSION: 3.8.10 | packaged by conda-forge | (default, May 11 2021, 07:01:05) \n",
      "[GCC 9.3.0]\n",
      "__pyTorch VERSION: 1.10.0a0+3fd9dcf\n",
      "__CUDA VERSION\n",
      "/bin/bash: /libraries/Default_env_55760/lib/libtinfo.so.6: no version information available (required by /bin/bash)\n",
      "nvcc: NVIDIA (R) Cuda compiler driver\n",
      "Copyright (c) 2005-2021 NVIDIA Corporation\n",
      "Built on Wed_Jul_14_19:41:19_PDT_2021\n",
      "Cuda compilation tools, release 11.4, V11.4.100\n",
      "Build cuda_11.4.r11.4/compiler.30188945_0\n",
      "__CUDNN VERSION: 8202\n",
      "__Number CUDA Devices: 2\n",
      "__Devices\n",
      "index, name, driver_version, memory.total [MiB], memory.used [MiB], memory.free [MiB]\n",
      "0, Tesla T4, 450.172.01, 15109 MiB, 1268 MiB, 13841 MiB\n",
      "1, Tesla T4, 450.172.01, 15109 MiB, 1244 MiB, 13865 MiB\n",
      "Active CUDA Device: GPU 0\n",
      "Available devices  2\n",
      "Current cuda device  0\n"
     ]
    }
   ],
   "source": [
    "\n",
    "import torch\n",
    "import sys\n",
    "print('__Python VERSION:', sys.version)\n",
    "print('__pyTorch VERSION:', torch.__version__)\n",
    "print('__CUDA VERSION')\n",
    "from subprocess import call\n",
    "# call([\"nvcc\", \"--version\"]) does not work\n",
    "! nvcc --version\n",
    "print('__CUDNN VERSION:', torch.backends.cudnn.version())\n",
    "print('__Number CUDA Devices:', torch.cuda.device_count())\n",
    "print('__Devices')\n",
    "call([\"nvidia-smi\", \"--format=csv\", \"--query-gpu=index,name,driver_version,memory.total,memory.used,memory.free\"])\n",
    "print('Active CUDA Device: GPU', torch.cuda.current_device())\n",
    "print ('Available devices ', torch.cuda.device_count())\n",
    "print ('Current cuda device ', torch.cuda.current_device())\n"
   ]
  },
  {
   "cell_type": "code",
   "execution_count": 20,
   "id": "f6072b9b-0f9f-49f5-a5e0-1033b5de4c84",
   "metadata": {},
   "outputs": [],
   "source": [
    "granoGAN=GranoGAN(device=device,opt_trn=opt_trn,windows_length=seq_len,n_features=n_features,in_dim=in_dim)"
   ]
  },
  {
   "cell_type": "markdown",
   "id": "f2b788bd-2f20-434c-82a2-d8d4804ec9b1",
   "metadata": {},
   "source": [
    "<h4>CriticX training</h4>"
   ]
  },
  {
   "cell_type": "code",
   "execution_count": null,
   "id": "2cd17842-af83-4dd0-83c5-9e783228ab87",
   "metadata": {},
   "outputs": [
    {
     "name": "stderr",
     "output_type": "stream",
     "text": [
      "/home/jupyter/src/algorithms/GranoGAN.py:110: UserWarning: nn.init.normal is now deprecated in favor of nn.init.normal_.\n",
      "  noise = Variable(init.normal(torch.Tensor(batch_size,seq_len,self.in_dim),mean=self.mean,std=self.std))\n"
     ]
    },
    {
     "name": "stdout",
     "output_type": "stream",
     "text": [
      "Epoch 0: train loss -1.9283161091780456\n"
     ]
    }
   ],
   "source": [
    "criticX=granoGAN.train_criticX(train_loader)"
   ]
  },
  {
   "cell_type": "code",
   "execution_count": 21,
   "id": "ab05d4b7-6b67-4ff1-985e-43203e488e8e",
   "metadata": {},
   "outputs": [],
   "source": [
    "PATH='/home/jupyter/GRANOGAN-IISC/src/saved_models/granogan/wadi/criticX.pkl'\n"
   ]
  },
  {
   "cell_type": "code",
   "execution_count": null,
   "id": "2b96da8e-84d0-442b-b487-ef3b94211f35",
   "metadata": {},
   "outputs": [],
   "source": [
    "torch.save(criticX.module.state_dict(), PATH)"
   ]
  },
  {
   "cell_type": "code",
   "execution_count": 22,
   "id": "78a7983a-66d4-47c3-af72-09c69ebc2db0",
   "metadata": {},
   "outputs": [],
   "source": [
    "criticX=Critic(in_dim=in_dim,device=device)\n",
    "criticX=nn.DataParallel(criticX)\n",
    "criticX.to(device)\n",
    "state_dict = torch.load(PATH)\n",
    "criticX=granoGAN.load_model(state_dict,criticX)"
   ]
  },
  {
   "cell_type": "code",
   "execution_count": 23,
   "id": "e7d8d8ba-6fb1-4786-8cb0-b19fa341824a",
   "metadata": {},
   "outputs": [],
   "source": [
    "granoGAN.initialize_criticX(criticX)"
   ]
  },
  {
   "cell_type": "markdown",
   "id": "3894c389-1738-4dac-9a0e-10cabb58837a",
   "metadata": {},
   "source": [
    "<h4>CriticZ training</h4>"
   ]
  },
  {
   "cell_type": "code",
   "execution_count": null,
   "id": "213570bb-9598-4a19-ab41-4d84b7873a7d",
   "metadata": {},
   "outputs": [],
   "source": [
    "criticZ=granoGAN.train_criticZ(train_loader)"
   ]
  },
  {
   "cell_type": "code",
   "execution_count": 24,
   "id": "b4ab1831-b3ae-4f1d-a23b-628f022eae30",
   "metadata": {},
   "outputs": [],
   "source": [
    "PATH='/home/jupyter/GRANOGAN-IISC/src/saved_models/granogan/wadi/criticZ.pkl'\n"
   ]
  },
  {
   "cell_type": "code",
   "execution_count": null,
   "id": "a1ccaf23-2e4e-401a-9d70-b34dff515c5d",
   "metadata": {},
   "outputs": [],
   "source": [
    "torch.save(criticZ.module.state_dict(), PATH)"
   ]
  },
  {
   "cell_type": "code",
   "execution_count": 25,
   "id": "a7ddef9c-666a-47a0-8fe4-dc79a8e0f85a",
   "metadata": {},
   "outputs": [],
   "source": [
    "criticZ=Critic(in_dim=in_dim,device=device)\n",
    "criticZ=nn.DataParallel(criticZ)\n",
    "criticZ.to(device)\n",
    "state_dict = torch.load(PATH)\n",
    "criticZ=granoGAN.load_model(state_dict,criticZ)"
   ]
  },
  {
   "cell_type": "code",
   "execution_count": 26,
   "id": "57db9841-625b-4125-9bb0-4a41d4fe9dfe",
   "metadata": {},
   "outputs": [],
   "source": [
    "granoGAN.initialize_criticZ(criticZ)"
   ]
  },
  {
   "cell_type": "markdown",
   "id": "d568662f-7db5-4844-b6ed-285c0e89c5a7",
   "metadata": {},
   "source": [
    "<h4>Encoder and Decoder training</h4>"
   ]
  },
  {
   "cell_type": "code",
   "execution_count": null,
   "id": "793dc7c2-fde0-46c9-922b-88ce941c3e16",
   "metadata": {},
   "outputs": [],
   "source": [
    "encoder,decoder=granoGAN.train_enc_dec(train_loader)"
   ]
  },
  {
   "cell_type": "code",
   "execution_count": 27,
   "id": "27137de8-c3ec-4913-a115-b721080f47fd",
   "metadata": {},
   "outputs": [],
   "source": [
    "PATH_encoder='/home/jupyter/GRANOGAN-IISC/src/saved_models/granogan/wadi/encoder.pkl'\n",
    "\n",
    "PATH_decoder='/home/jupyter/GRANOGAN-IISC/src/saved_models/granogan/wadi/decoder.pkl'\n"
   ]
  },
  {
   "cell_type": "code",
   "execution_count": null,
   "id": "194c3909-a35f-4357-a04c-7c7b52c15f73",
   "metadata": {},
   "outputs": [],
   "source": [
    "torch.save(encoder.module.state_dict(), PATH_encoder)\n",
    "torch.save(decoder.module.state_dict(), PATH_decoder)"
   ]
  },
  {
   "cell_type": "code",
   "execution_count": 28,
   "id": "d6c9f4a2-4063-47dd-81eb-8e3f12051222",
   "metadata": {},
   "outputs": [],
   "source": [
    "encoder=Encoder(n_features=in_dim, embedding_dim=in_dim,device=device)\n",
    "encoder=nn.DataParallel(encoder)\n",
    "encoder.to(device)\n",
    "state_dict = torch.load(PATH_encoder)\n",
    "encoder=granoGAN.load_model(state_dict,encoder)"
   ]
  },
  {
   "cell_type": "code",
   "execution_count": 29,
   "id": "5cd98764-7dbd-4870-9743-e634649ece69",
   "metadata": {},
   "outputs": [],
   "source": [
    "decoder=Decoder(in_dim=in_dim,out_dim=in_dim,device=device)\n",
    "decoder=nn.DataParallel(decoder)\n",
    "decoder.to(device)\n",
    "state_dict = torch.load(PATH_decoder)\n",
    "decoder=granoGAN.load_model(state_dict,decoder)"
   ]
  },
  {
   "cell_type": "code",
   "execution_count": 30,
   "id": "32f3a5e1-4222-4eda-bf33-5adf9eaf4cf2",
   "metadata": {},
   "outputs": [],
   "source": [
    "granoGAN.initialize_decoder(decoder)\n",
    "granoGAN.initialize_encoder(encoder)"
   ]
  },
  {
   "cell_type": "markdown",
   "id": "77068d3d-368f-4eee-8965-49cc34a2b197",
   "metadata": {},
   "source": [
    "<h4>Loading back saved models</h4>"
   ]
  },
  {
   "cell_type": "code",
   "execution_count": null,
   "id": "6cefa0f9-dad7-4f91-ae15-38a17da50767",
   "metadata": {},
   "outputs": [],
   "source": [
    "granoGAN.initialize_models(criticX,criticZ,decoder,encoder)"
   ]
  },
  {
   "cell_type": "markdown",
   "id": "76f64ec1-2dcd-4bed-a759-09e969745120",
   "metadata": {},
   "source": [
    "<h2>Testing for anomaly</h2>"
   ]
  },
  {
   "cell_type": "code",
   "execution_count": 31,
   "id": "5957b56f-d35a-4035-91a1-e74474880bb5",
   "metadata": {},
   "outputs": [],
   "source": [
    "sequences,y_test_per_window = get_sub_seqs(x_test,y_test, seq_len=60, stride=60, start_discont=np.array([]))\n",
    "test_loader = DataLoader(dataset=sequences, batch_size=1,  num_workers=4,\n",
    "                                 shuffle=False)"
   ]
  },
  {
   "cell_type": "code",
   "execution_count": 32,
   "id": "37f48d23-9a05-4b1d-998a-578f058ee1cc",
   "metadata": {},
   "outputs": [],
   "source": [
    "losses=granoGAN.predict_loss(test_loader)"
   ]
  },
  {
   "cell_type": "code",
   "execution_count": 33,
   "id": "52a25647-31c2-4b62-9a24-2d77e98f1542",
   "metadata": {},
   "outputs": [],
   "source": [
    "import matplotlib.pyplot as plt\n",
    "import seaborn as sns"
   ]
  },
  {
   "cell_type": "code",
   "execution_count": 34,
   "id": "05196b97-6cbc-415b-bc35-c049d9fdb847",
   "metadata": {},
   "outputs": [
    {
     "data": {
      "image/png": "[encoded data removed]",
      "text/plain": [
       "<Figure size 1280x720 with 1 Axes>"
      ]
     },
     "metadata": {
      "needs_background": "light"
     },
     "output_type": "display_data"
    }
   ],
   "source": [
    "plt.figure(figsize=(16,9), dpi=80)\n",
    "plt.title('Loss Distribution', fontsize=16)\n",
    "sns.histplot(losses, bins = 20, kde= False, color = 'blue');\n",
    "#sns.distplot(losses, bins = 20, kde= True, color = 'blue');"
   ]
  },
  {
   "cell_type": "code",
   "execution_count": 35,
   "id": "fe8f9d67-1500-4271-9292-fc7da5fc5cf5",
   "metadata": {},
   "outputs": [
    {
     "data": {
      "image/png": "[encoded data removed]",
      "text/plain": [
       "<Figure size 432x288 with 1 Axes>"
      ]
     },
     "metadata": {
      "needs_background": "light"
     },
     "output_type": "display_data"
    }
   ],
   "source": [
    "THRESHOLD =5.931\n",
    "\n",
    "test_score_df = pd.DataFrame(index=range(len(losses)))\n",
    "test_score_df['loss'] = [loss/60 for loss in losses]\n",
    "test_score_df['y'] = y_test_per_window\n",
    "test_score_df['threshold'] = THRESHOLD\n",
    "test_score_df['anomaly'] = test_score_df.loss > test_score_df.threshold\n",
    "#test_score_df['t'] = [x[59].item() for x in sequences]\n",
    "\n",
    "plt.plot( test_score_df.loss, label='loss')\n",
    "plt.plot( test_score_df.threshold, label='threshold')\n",
    "plt.plot( test_score_df.y, label='y')\n",
    "plt.xticks(rotation=25)\n",
    "plt.legend();\n"
   ]
  },
  {
   "cell_type": "code",
   "execution_count": 36,
   "id": "6c196191-2308-4fea-ad91-13dcf1408285",
   "metadata": {},
   "outputs": [],
   "source": [
    "import numpy as np\n",
    "actual,predicted=improve_detection(test_score_df)"
   ]
  },
  {
   "cell_type": "code",
   "execution_count": 37,
   "id": "2062fbc6-09fe-4581-840c-5434bb147a22",
   "metadata": {},
   "outputs": [
    {
     "name": "stdout",
     "output_type": "stream",
     "text": [
      "True Positive\t 112\n",
      "True Negative\t 2665\n",
      "False Positive\t 37\n",
      "False Negative\t 66\n",
      "Accuracy\t 0.9642361111111111\n",
      "Precision\t 0.7516778523489933\n",
      "Recall\t 0.6292134831460674\n",
      "f-measure\t 0.6850152905198776\n",
      "cohen_kappa_score\t 0.6662150788328329\n",
      "auc\t 0.8077599614101914\n",
      "roc_auc\t 0.8077599614101914\n"
     ]
    }
   ],
   "source": [
    "\n",
    "from sklearn.metrics import cohen_kappa_score\n",
    "from sklearn.metrics import roc_curve, auc, roc_auc_score\n",
    "\n",
    "predicted = np.array(predicted)\n",
    "actual = np.array(actual)\n",
    "\n",
    "print_scores(predicted,actual)"
   ]
  },
  {
   "cell_type": "code",
   "execution_count": null,
   "id": "d0d86a1e-7205-4a64-8fa4-f9af9afc5c1e",
   "metadata": {},
   "outputs": [],
   "source": []
  },
  {
   "cell_type": "code",
   "execution_count": null,
   "id": "80dd6deb-9be7-4c5e-b736-6f8bda7fb8d0",
   "metadata": {},
   "outputs": [],
   "source": []
  }
 ],
 "metadata": {
  "kernelspec": {
   "display_name": ".venv",
   "language": "python",
   "name": "python3"
  },
  "language_info": {
   "codemirror_mode": {
    "name": "ipython",
    "version": 3
   },
   "file_extension": ".py",
   "mimetype": "text/x-python",
   "name": "python",
   "nbconvert_exporter": "python",
   "pygments_lexer": "ipython3",
   "version": "3.12.3"
  }
 },
 "nbformat": 4,
 "nbformat_minor": 5
}
